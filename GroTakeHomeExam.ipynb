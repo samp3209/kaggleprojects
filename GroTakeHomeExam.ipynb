{
  "nbformat": 4,
  "nbformat_minor": 0,
  "metadata": {
    "colab": {
      "name": "GroTakeHomeExam.ipynb",
      "provenance": [],
      "authorship_tag": "ABX9TyPHKXaD7KpFA1IOy1PfMOT9",
      "include_colab_link": true
    },
    "kernelspec": {
      "name": "python3",
      "display_name": "Python 3"
    },
    "language_info": {
      "name": "python"
    }
  },
  "cells": [
    {
      "cell_type": "markdown",
      "metadata": {
        "id": "view-in-github",
        "colab_type": "text"
      },
      "source": [
        "<a href=\"https://colab.research.google.com/github/samp3209/kaggleprojects/blob/main/GroTakeHomeExam.ipynb\" target=\"_parent\"><img src=\"https://colab.research.google.com/assets/colab-badge.svg\" alt=\"Open In Colab\"/></a>"
      ]
    },
    {
      "cell_type": "markdown",
      "source": [
        "Imports"
      ],
      "metadata": {
        "id": "YAZ8r3aAh2L7"
      }
    },
    {
      "cell_type": "code",
      "execution_count": 493,
      "metadata": {
        "id": "nq6yyNaPfZZs"
      },
      "outputs": [],
      "source": [
        "import pandas as pd\n",
        "import numpy as np\n",
        "import sklearn\n",
        "import matplotlib.pyplot as plt\n",
        "from sklearn.linear_model import SGDRegressor\n",
        "from sklearn.linear_model import LinearRegression\n",
        "from sklearn.neighbors import KNeighborsRegressor\n",
        "from sklearn import preprocessing\n",
        "from sklearn.metrics import mean_squared_error\n",
        "from sklearn.metrics import mean_absolute_error\n",
        "from numpy import random\n",
        "from sklearn.model_selection import train_test_split\n",
        "from sklearn.metrics import mean_absolute_percentage_error\n",
        "from scipy.stats import pearsonr"
      ]
    },
    {
      "cell_type": "code",
      "source": [
        "#importing data\n",
        "dp = pd.read_csv('Daily Precipitation.csv')\n",
        "ds = pd.read_csv('Daily Soil Mositure.csv')\n",
        "dt = pd.read_csv('Daily Temperature.csv')\n",
        "ed = pd.read_csv('Eight Day NDVI.csv')\n",
        "pq = pd.read_csv('Production Quantity.csv')\n",
        "pp = pd.read_csv('predicted_production_qty.csv')\n"
      ],
      "metadata": {
        "id": "ivutcFq4gpyw"
      },
      "execution_count": 494,
      "outputs": []
    },
    {
      "cell_type": "markdown",
      "source": [
        "Data Exploration"
      ],
      "metadata": {
        "id": "nQ5fJ1f-hyRO"
      }
    },
    {
      "cell_type": "code",
      "source": [
        "#print(dp.sample(10))\n",
        "print(dp['region_id'].value_counts())\n",
        "print(len(dp))"
      ],
      "metadata": {
        "colab": {
          "base_uri": "https://localhost:8080/"
        },
        "id": "xuqw2lUjhvCI",
        "outputId": "7ebe3ad7-7955-4f3b-818e-66e8e4e9220c"
      },
      "execution_count": 495,
      "outputs": [
        {
          "output_type": "stream",
          "name": "stdout",
          "text": [
            "93     2994\n",
            "94     2994\n",
            "95     2994\n",
            "97     2994\n",
            "98     2994\n",
            "99     2994\n",
            "102    2994\n",
            "103    2994\n",
            "104    2994\n",
            "105    2994\n",
            "Name: region_id, dtype: int64\n",
            "29940\n"
          ]
        }
      ]
    },
    {
      "cell_type": "code",
      "source": [
        "#getting time frame as a feature\n",
        "dp['start_date']= pd.to_datetime(dp['start_date'])\n",
        "dp['end_date']= pd.to_datetime(dp['end_date'])\n",
        "dp.dtypes\n",
        "dp['time_period'] = dp['end_date'] - dp['start_date']\n",
        "dp.head(10)"
      ],
      "metadata": {
        "colab": {
          "base_uri": "https://localhost:8080/",
          "height": 363
        },
        "id": "o6W491aIoBf9",
        "outputId": "1e27bddd-23fd-4430-dea0-2b8467653f6b"
      },
      "execution_count": 496,
      "outputs": [
        {
          "output_type": "execute_result",
          "data": {
            "text/plain": [
              "                 start_date                  end_date     precip  region_id  \\\n",
              "0 2014-01-01 00:00:00+00:00 2014-01-01 00:00:00+00:00   1.392393         93   \n",
              "1 2014-01-02 00:00:00+00:00 2014-01-02 00:00:00+00:00   0.315380         93   \n",
              "2 2014-01-03 00:00:00+00:00 2014-01-03 00:00:00+00:00   2.347846         93   \n",
              "3 2014-01-04 00:00:00+00:00 2014-01-04 00:00:00+00:00  21.466357         93   \n",
              "4 2014-01-05 00:00:00+00:00 2014-01-05 00:00:00+00:00  32.823651         93   \n",
              "5 2014-01-06 00:00:00+00:00 2014-01-06 00:00:00+00:00   7.222263         93   \n",
              "6 2014-01-07 00:00:00+00:00 2014-01-07 00:00:00+00:00   0.450134         93   \n",
              "7 2014-01-08 00:00:00+00:00 2014-01-08 00:00:00+00:00   0.201830         93   \n",
              "8 2014-01-09 00:00:00+00:00 2014-01-09 00:00:00+00:00   6.424763         93   \n",
              "9 2014-01-10 00:00:00+00:00 2014-01-10 00:00:00+00:00   3.585208         93   \n",
              "\n",
              "  time_period  \n",
              "0      0 days  \n",
              "1      0 days  \n",
              "2      0 days  \n",
              "3      0 days  \n",
              "4      0 days  \n",
              "5      0 days  \n",
              "6      0 days  \n",
              "7      0 days  \n",
              "8      0 days  \n",
              "9      0 days  "
            ],
            "text/html": [
              "\n",
              "  <div id=\"df-76f9dbe1-6657-490e-91c3-2207efb3bf01\">\n",
              "    <div class=\"colab-df-container\">\n",
              "      <div>\n",
              "<style scoped>\n",
              "    .dataframe tbody tr th:only-of-type {\n",
              "        vertical-align: middle;\n",
              "    }\n",
              "\n",
              "    .dataframe tbody tr th {\n",
              "        vertical-align: top;\n",
              "    }\n",
              "\n",
              "    .dataframe thead th {\n",
              "        text-align: right;\n",
              "    }\n",
              "</style>\n",
              "<table border=\"1\" class=\"dataframe\">\n",
              "  <thead>\n",
              "    <tr style=\"text-align: right;\">\n",
              "      <th></th>\n",
              "      <th>start_date</th>\n",
              "      <th>end_date</th>\n",
              "      <th>precip</th>\n",
              "      <th>region_id</th>\n",
              "      <th>time_period</th>\n",
              "    </tr>\n",
              "  </thead>\n",
              "  <tbody>\n",
              "    <tr>\n",
              "      <th>0</th>\n",
              "      <td>2014-01-01 00:00:00+00:00</td>\n",
              "      <td>2014-01-01 00:00:00+00:00</td>\n",
              "      <td>1.392393</td>\n",
              "      <td>93</td>\n",
              "      <td>0 days</td>\n",
              "    </tr>\n",
              "    <tr>\n",
              "      <th>1</th>\n",
              "      <td>2014-01-02 00:00:00+00:00</td>\n",
              "      <td>2014-01-02 00:00:00+00:00</td>\n",
              "      <td>0.315380</td>\n",
              "      <td>93</td>\n",
              "      <td>0 days</td>\n",
              "    </tr>\n",
              "    <tr>\n",
              "      <th>2</th>\n",
              "      <td>2014-01-03 00:00:00+00:00</td>\n",
              "      <td>2014-01-03 00:00:00+00:00</td>\n",
              "      <td>2.347846</td>\n",
              "      <td>93</td>\n",
              "      <td>0 days</td>\n",
              "    </tr>\n",
              "    <tr>\n",
              "      <th>3</th>\n",
              "      <td>2014-01-04 00:00:00+00:00</td>\n",
              "      <td>2014-01-04 00:00:00+00:00</td>\n",
              "      <td>21.466357</td>\n",
              "      <td>93</td>\n",
              "      <td>0 days</td>\n",
              "    </tr>\n",
              "    <tr>\n",
              "      <th>4</th>\n",
              "      <td>2014-01-05 00:00:00+00:00</td>\n",
              "      <td>2014-01-05 00:00:00+00:00</td>\n",
              "      <td>32.823651</td>\n",
              "      <td>93</td>\n",
              "      <td>0 days</td>\n",
              "    </tr>\n",
              "    <tr>\n",
              "      <th>5</th>\n",
              "      <td>2014-01-06 00:00:00+00:00</td>\n",
              "      <td>2014-01-06 00:00:00+00:00</td>\n",
              "      <td>7.222263</td>\n",
              "      <td>93</td>\n",
              "      <td>0 days</td>\n",
              "    </tr>\n",
              "    <tr>\n",
              "      <th>6</th>\n",
              "      <td>2014-01-07 00:00:00+00:00</td>\n",
              "      <td>2014-01-07 00:00:00+00:00</td>\n",
              "      <td>0.450134</td>\n",
              "      <td>93</td>\n",
              "      <td>0 days</td>\n",
              "    </tr>\n",
              "    <tr>\n",
              "      <th>7</th>\n",
              "      <td>2014-01-08 00:00:00+00:00</td>\n",
              "      <td>2014-01-08 00:00:00+00:00</td>\n",
              "      <td>0.201830</td>\n",
              "      <td>93</td>\n",
              "      <td>0 days</td>\n",
              "    </tr>\n",
              "    <tr>\n",
              "      <th>8</th>\n",
              "      <td>2014-01-09 00:00:00+00:00</td>\n",
              "      <td>2014-01-09 00:00:00+00:00</td>\n",
              "      <td>6.424763</td>\n",
              "      <td>93</td>\n",
              "      <td>0 days</td>\n",
              "    </tr>\n",
              "    <tr>\n",
              "      <th>9</th>\n",
              "      <td>2014-01-10 00:00:00+00:00</td>\n",
              "      <td>2014-01-10 00:00:00+00:00</td>\n",
              "      <td>3.585208</td>\n",
              "      <td>93</td>\n",
              "      <td>0 days</td>\n",
              "    </tr>\n",
              "  </tbody>\n",
              "</table>\n",
              "</div>\n",
              "      <button class=\"colab-df-convert\" onclick=\"convertToInteractive('df-76f9dbe1-6657-490e-91c3-2207efb3bf01')\"\n",
              "              title=\"Convert this dataframe to an interactive table.\"\n",
              "              style=\"display:none;\">\n",
              "        \n",
              "  <svg xmlns=\"http://www.w3.org/2000/svg\" height=\"24px\"viewBox=\"0 0 24 24\"\n",
              "       width=\"24px\">\n",
              "    <path d=\"M0 0h24v24H0V0z\" fill=\"none\"/>\n",
              "    <path d=\"M18.56 5.44l.94 2.06.94-2.06 2.06-.94-2.06-.94-.94-2.06-.94 2.06-2.06.94zm-11 1L8.5 8.5l.94-2.06 2.06-.94-2.06-.94L8.5 2.5l-.94 2.06-2.06.94zm10 10l.94 2.06.94-2.06 2.06-.94-2.06-.94-.94-2.06-.94 2.06-2.06.94z\"/><path d=\"M17.41 7.96l-1.37-1.37c-.4-.4-.92-.59-1.43-.59-.52 0-1.04.2-1.43.59L10.3 9.45l-7.72 7.72c-.78.78-.78 2.05 0 2.83L4 21.41c.39.39.9.59 1.41.59.51 0 1.02-.2 1.41-.59l7.78-7.78 2.81-2.81c.8-.78.8-2.07 0-2.86zM5.41 20L4 18.59l7.72-7.72 1.47 1.35L5.41 20z\"/>\n",
              "  </svg>\n",
              "      </button>\n",
              "      \n",
              "  <style>\n",
              "    .colab-df-container {\n",
              "      display:flex;\n",
              "      flex-wrap:wrap;\n",
              "      gap: 12px;\n",
              "    }\n",
              "\n",
              "    .colab-df-convert {\n",
              "      background-color: #E8F0FE;\n",
              "      border: none;\n",
              "      border-radius: 50%;\n",
              "      cursor: pointer;\n",
              "      display: none;\n",
              "      fill: #1967D2;\n",
              "      height: 32px;\n",
              "      padding: 0 0 0 0;\n",
              "      width: 32px;\n",
              "    }\n",
              "\n",
              "    .colab-df-convert:hover {\n",
              "      background-color: #E2EBFA;\n",
              "      box-shadow: 0px 1px 2px rgba(60, 64, 67, 0.3), 0px 1px 3px 1px rgba(60, 64, 67, 0.15);\n",
              "      fill: #174EA6;\n",
              "    }\n",
              "\n",
              "    [theme=dark] .colab-df-convert {\n",
              "      background-color: #3B4455;\n",
              "      fill: #D2E3FC;\n",
              "    }\n",
              "\n",
              "    [theme=dark] .colab-df-convert:hover {\n",
              "      background-color: #434B5C;\n",
              "      box-shadow: 0px 1px 3px 1px rgba(0, 0, 0, 0.15);\n",
              "      filter: drop-shadow(0px 1px 2px rgba(0, 0, 0, 0.3));\n",
              "      fill: #FFFFFF;\n",
              "    }\n",
              "  </style>\n",
              "\n",
              "      <script>\n",
              "        const buttonEl =\n",
              "          document.querySelector('#df-76f9dbe1-6657-490e-91c3-2207efb3bf01 button.colab-df-convert');\n",
              "        buttonEl.style.display =\n",
              "          google.colab.kernel.accessAllowed ? 'block' : 'none';\n",
              "\n",
              "        async function convertToInteractive(key) {\n",
              "          const element = document.querySelector('#df-76f9dbe1-6657-490e-91c3-2207efb3bf01');\n",
              "          const dataTable =\n",
              "            await google.colab.kernel.invokeFunction('convertToInteractive',\n",
              "                                                     [key], {});\n",
              "          if (!dataTable) return;\n",
              "\n",
              "          const docLinkHtml = 'Like what you see? Visit the ' +\n",
              "            '<a target=\"_blank\" href=https://colab.research.google.com/notebooks/data_table.ipynb>data table notebook</a>'\n",
              "            + ' to learn more about interactive tables.';\n",
              "          element.innerHTML = '';\n",
              "          dataTable['output_type'] = 'display_data';\n",
              "          await google.colab.output.renderOutput(dataTable, element);\n",
              "          const docLink = document.createElement('div');\n",
              "          docLink.innerHTML = docLinkHtml;\n",
              "          element.appendChild(docLink);\n",
              "        }\n",
              "      </script>\n",
              "    </div>\n",
              "  </div>\n",
              "  "
            ]
          },
          "metadata": {},
          "execution_count": 496
        }
      ]
    },
    {
      "cell_type": "code",
      "source": [
        "#Target Variable. \n",
        "#Want to plot all variables with production to select features\n",
        "#print(pq.sample(10))\n",
        "print(pq['region_id'].value_counts())\n",
        "print(len(pq))"
      ],
      "metadata": {
        "colab": {
          "base_uri": "https://localhost:8080/"
        },
        "id": "EI-77qDii3P2",
        "outputId": "d56a35fb-76fe-4060-f5f2-1b82b8cbeab3"
      },
      "execution_count": 497,
      "outputs": [
        {
          "output_type": "stream",
          "name": "stdout",
          "text": [
            "93     72\n",
            "94     72\n",
            "95     72\n",
            "97     72\n",
            "98     72\n",
            "99     72\n",
            "102    72\n",
            "103    72\n",
            "104    72\n",
            "105    72\n",
            "Name: region_id, dtype: int64\n",
            "720\n"
          ]
        }
      ]
    },
    {
      "cell_type": "code",
      "source": [
        "#getting time frame as a feature\n",
        "pq['start_date']= pd.to_datetime(pq['start_date'])\n",
        "pq['end_date']= pd.to_datetime(pq['end_date'])\n",
        "pq.dtypes\n",
        "pq['time_period'] = pq['end_date'] - pq['start_date']\n",
        "pq.head(10)"
      ],
      "metadata": {
        "colab": {
          "base_uri": "https://localhost:8080/",
          "height": 363
        },
        "id": "8yKZ4zp2nAm7",
        "outputId": "0425e2e4-69f1-41ee-d16d-7b7f2235ec9f"
      },
      "execution_count": 498,
      "outputs": [
        {
          "output_type": "execute_result",
          "data": {
            "text/plain": [
              "                 start_date                  end_date    prod  region_id  \\\n",
              "0 2015-01-01 00:00:00+00:00 2015-01-31 00:00:00+00:00  171725         93   \n",
              "1 2015-02-01 00:00:00+00:00 2015-02-28 00:00:00+00:00  188325         93   \n",
              "2 2015-03-01 00:00:00+00:00 2015-03-31 00:00:00+00:00  247856         93   \n",
              "3 2015-04-01 00:00:00+00:00 2015-04-30 00:00:00+00:00  282791         93   \n",
              "4 2015-05-01 00:00:00+00:00 2015-05-31 00:00:00+00:00  291057         93   \n",
              "5 2015-06-01 00:00:00+00:00 2015-06-30 00:00:00+00:00  287502         93   \n",
              "6 2015-07-01 00:00:00+00:00 2015-07-31 00:00:00+00:00  288086         93   \n",
              "7 2015-08-01 00:00:00+00:00 2015-08-31 00:00:00+00:00  313321         93   \n",
              "8 2015-09-01 00:00:00+00:00 2015-09-30 00:00:00+00:00  299337         93   \n",
              "9 2015-10-01 00:00:00+00:00 2015-10-31 00:00:00+00:00  300383         93   \n",
              "\n",
              "  time_period  \n",
              "0     30 days  \n",
              "1     27 days  \n",
              "2     30 days  \n",
              "3     29 days  \n",
              "4     30 days  \n",
              "5     29 days  \n",
              "6     30 days  \n",
              "7     30 days  \n",
              "8     29 days  \n",
              "9     30 days  "
            ],
            "text/html": [
              "\n",
              "  <div id=\"df-97297dde-db47-487d-ac38-23f83c5a07e0\">\n",
              "    <div class=\"colab-df-container\">\n",
              "      <div>\n",
              "<style scoped>\n",
              "    .dataframe tbody tr th:only-of-type {\n",
              "        vertical-align: middle;\n",
              "    }\n",
              "\n",
              "    .dataframe tbody tr th {\n",
              "        vertical-align: top;\n",
              "    }\n",
              "\n",
              "    .dataframe thead th {\n",
              "        text-align: right;\n",
              "    }\n",
              "</style>\n",
              "<table border=\"1\" class=\"dataframe\">\n",
              "  <thead>\n",
              "    <tr style=\"text-align: right;\">\n",
              "      <th></th>\n",
              "      <th>start_date</th>\n",
              "      <th>end_date</th>\n",
              "      <th>prod</th>\n",
              "      <th>region_id</th>\n",
              "      <th>time_period</th>\n",
              "    </tr>\n",
              "  </thead>\n",
              "  <tbody>\n",
              "    <tr>\n",
              "      <th>0</th>\n",
              "      <td>2015-01-01 00:00:00+00:00</td>\n",
              "      <td>2015-01-31 00:00:00+00:00</td>\n",
              "      <td>171725</td>\n",
              "      <td>93</td>\n",
              "      <td>30 days</td>\n",
              "    </tr>\n",
              "    <tr>\n",
              "      <th>1</th>\n",
              "      <td>2015-02-01 00:00:00+00:00</td>\n",
              "      <td>2015-02-28 00:00:00+00:00</td>\n",
              "      <td>188325</td>\n",
              "      <td>93</td>\n",
              "      <td>27 days</td>\n",
              "    </tr>\n",
              "    <tr>\n",
              "      <th>2</th>\n",
              "      <td>2015-03-01 00:00:00+00:00</td>\n",
              "      <td>2015-03-31 00:00:00+00:00</td>\n",
              "      <td>247856</td>\n",
              "      <td>93</td>\n",
              "      <td>30 days</td>\n",
              "    </tr>\n",
              "    <tr>\n",
              "      <th>3</th>\n",
              "      <td>2015-04-01 00:00:00+00:00</td>\n",
              "      <td>2015-04-30 00:00:00+00:00</td>\n",
              "      <td>282791</td>\n",
              "      <td>93</td>\n",
              "      <td>29 days</td>\n",
              "    </tr>\n",
              "    <tr>\n",
              "      <th>4</th>\n",
              "      <td>2015-05-01 00:00:00+00:00</td>\n",
              "      <td>2015-05-31 00:00:00+00:00</td>\n",
              "      <td>291057</td>\n",
              "      <td>93</td>\n",
              "      <td>30 days</td>\n",
              "    </tr>\n",
              "    <tr>\n",
              "      <th>5</th>\n",
              "      <td>2015-06-01 00:00:00+00:00</td>\n",
              "      <td>2015-06-30 00:00:00+00:00</td>\n",
              "      <td>287502</td>\n",
              "      <td>93</td>\n",
              "      <td>29 days</td>\n",
              "    </tr>\n",
              "    <tr>\n",
              "      <th>6</th>\n",
              "      <td>2015-07-01 00:00:00+00:00</td>\n",
              "      <td>2015-07-31 00:00:00+00:00</td>\n",
              "      <td>288086</td>\n",
              "      <td>93</td>\n",
              "      <td>30 days</td>\n",
              "    </tr>\n",
              "    <tr>\n",
              "      <th>7</th>\n",
              "      <td>2015-08-01 00:00:00+00:00</td>\n",
              "      <td>2015-08-31 00:00:00+00:00</td>\n",
              "      <td>313321</td>\n",
              "      <td>93</td>\n",
              "      <td>30 days</td>\n",
              "    </tr>\n",
              "    <tr>\n",
              "      <th>8</th>\n",
              "      <td>2015-09-01 00:00:00+00:00</td>\n",
              "      <td>2015-09-30 00:00:00+00:00</td>\n",
              "      <td>299337</td>\n",
              "      <td>93</td>\n",
              "      <td>29 days</td>\n",
              "    </tr>\n",
              "    <tr>\n",
              "      <th>9</th>\n",
              "      <td>2015-10-01 00:00:00+00:00</td>\n",
              "      <td>2015-10-31 00:00:00+00:00</td>\n",
              "      <td>300383</td>\n",
              "      <td>93</td>\n",
              "      <td>30 days</td>\n",
              "    </tr>\n",
              "  </tbody>\n",
              "</table>\n",
              "</div>\n",
              "      <button class=\"colab-df-convert\" onclick=\"convertToInteractive('df-97297dde-db47-487d-ac38-23f83c5a07e0')\"\n",
              "              title=\"Convert this dataframe to an interactive table.\"\n",
              "              style=\"display:none;\">\n",
              "        \n",
              "  <svg xmlns=\"http://www.w3.org/2000/svg\" height=\"24px\"viewBox=\"0 0 24 24\"\n",
              "       width=\"24px\">\n",
              "    <path d=\"M0 0h24v24H0V0z\" fill=\"none\"/>\n",
              "    <path d=\"M18.56 5.44l.94 2.06.94-2.06 2.06-.94-2.06-.94-.94-2.06-.94 2.06-2.06.94zm-11 1L8.5 8.5l.94-2.06 2.06-.94-2.06-.94L8.5 2.5l-.94 2.06-2.06.94zm10 10l.94 2.06.94-2.06 2.06-.94-2.06-.94-.94-2.06-.94 2.06-2.06.94z\"/><path d=\"M17.41 7.96l-1.37-1.37c-.4-.4-.92-.59-1.43-.59-.52 0-1.04.2-1.43.59L10.3 9.45l-7.72 7.72c-.78.78-.78 2.05 0 2.83L4 21.41c.39.39.9.59 1.41.59.51 0 1.02-.2 1.41-.59l7.78-7.78 2.81-2.81c.8-.78.8-2.07 0-2.86zM5.41 20L4 18.59l7.72-7.72 1.47 1.35L5.41 20z\"/>\n",
              "  </svg>\n",
              "      </button>\n",
              "      \n",
              "  <style>\n",
              "    .colab-df-container {\n",
              "      display:flex;\n",
              "      flex-wrap:wrap;\n",
              "      gap: 12px;\n",
              "    }\n",
              "\n",
              "    .colab-df-convert {\n",
              "      background-color: #E8F0FE;\n",
              "      border: none;\n",
              "      border-radius: 50%;\n",
              "      cursor: pointer;\n",
              "      display: none;\n",
              "      fill: #1967D2;\n",
              "      height: 32px;\n",
              "      padding: 0 0 0 0;\n",
              "      width: 32px;\n",
              "    }\n",
              "\n",
              "    .colab-df-convert:hover {\n",
              "      background-color: #E2EBFA;\n",
              "      box-shadow: 0px 1px 2px rgba(60, 64, 67, 0.3), 0px 1px 3px 1px rgba(60, 64, 67, 0.15);\n",
              "      fill: #174EA6;\n",
              "    }\n",
              "\n",
              "    [theme=dark] .colab-df-convert {\n",
              "      background-color: #3B4455;\n",
              "      fill: #D2E3FC;\n",
              "    }\n",
              "\n",
              "    [theme=dark] .colab-df-convert:hover {\n",
              "      background-color: #434B5C;\n",
              "      box-shadow: 0px 1px 3px 1px rgba(0, 0, 0, 0.15);\n",
              "      filter: drop-shadow(0px 1px 2px rgba(0, 0, 0, 0.3));\n",
              "      fill: #FFFFFF;\n",
              "    }\n",
              "  </style>\n",
              "\n",
              "      <script>\n",
              "        const buttonEl =\n",
              "          document.querySelector('#df-97297dde-db47-487d-ac38-23f83c5a07e0 button.colab-df-convert');\n",
              "        buttonEl.style.display =\n",
              "          google.colab.kernel.accessAllowed ? 'block' : 'none';\n",
              "\n",
              "        async function convertToInteractive(key) {\n",
              "          const element = document.querySelector('#df-97297dde-db47-487d-ac38-23f83c5a07e0');\n",
              "          const dataTable =\n",
              "            await google.colab.kernel.invokeFunction('convertToInteractive',\n",
              "                                                     [key], {});\n",
              "          if (!dataTable) return;\n",
              "\n",
              "          const docLinkHtml = 'Like what you see? Visit the ' +\n",
              "            '<a target=\"_blank\" href=https://colab.research.google.com/notebooks/data_table.ipynb>data table notebook</a>'\n",
              "            + ' to learn more about interactive tables.';\n",
              "          element.innerHTML = '';\n",
              "          dataTable['output_type'] = 'display_data';\n",
              "          await google.colab.output.renderOutput(dataTable, element);\n",
              "          const docLink = document.createElement('div');\n",
              "          docLink.innerHTML = docLinkHtml;\n",
              "          element.appendChild(docLink);\n",
              "        }\n",
              "      </script>\n",
              "    </div>\n",
              "  </div>\n",
              "  "
            ]
          },
          "metadata": {},
          "execution_count": 498
        }
      ]
    },
    {
      "cell_type": "code",
      "source": [
        "#print(ds.sample(10))\n",
        "print(ds['region_id'].value_counts())\n",
        "print(len(ds))"
      ],
      "metadata": {
        "colab": {
          "base_uri": "https://localhost:8080/"
        },
        "id": "9DC5A-ofjTxk",
        "outputId": "f46fed2e-bf4f-4290-9ea6-1f479985265c"
      },
      "execution_count": 499,
      "outputs": [
        {
          "output_type": "stream",
          "name": "stdout",
          "text": [
            "103    2975\n",
            "93     2974\n",
            "102    2970\n",
            "104    2970\n",
            "97     2969\n",
            "98     2969\n",
            "95     2968\n",
            "99     2967\n",
            "94     2963\n",
            "105    2878\n",
            "Name: region_id, dtype: int64\n",
            "29603\n"
          ]
        }
      ]
    },
    {
      "cell_type": "code",
      "source": [
        "#getting time frame as a feature\n",
        "ds['start_date']= pd.to_datetime(ds['start_date'])\n",
        "ds['end_date']= pd.to_datetime(ds['end_date'])\n",
        "ds.dtypes\n",
        "ds['time_period'] = ds['end_date'] - ds['start_date']\n",
        "ds.head(10)"
      ],
      "metadata": {
        "colab": {
          "base_uri": "https://localhost:8080/",
          "height": 363
        },
        "id": "bt0ZVMAQoXZ6",
        "outputId": "e77dcf59-c0ce-4dff-e51c-67f76afd645d"
      },
      "execution_count": 500,
      "outputs": [
        {
          "output_type": "execute_result",
          "data": {
            "text/plain": [
              "                 start_date                  end_date      smos  region_id  \\\n",
              "0 2014-01-01 00:00:00+00:00 2014-01-01 00:00:00+00:00  0.310787         93   \n",
              "1 2014-01-02 00:00:00+00:00 2014-01-02 00:00:00+00:00  0.192271         93   \n",
              "2 2014-01-03 00:00:00+00:00 2014-01-03 00:00:00+00:00  0.265683         93   \n",
              "3 2014-01-04 00:00:00+00:00 2014-01-04 00:00:00+00:00  0.265683         93   \n",
              "4 2014-01-05 00:00:00+00:00 2014-01-05 00:00:00+00:00  0.230782         93   \n",
              "5 2014-01-06 00:00:00+00:00 2014-01-06 00:00:00+00:00  0.379118         93   \n",
              "6 2014-01-07 00:00:00+00:00 2014-01-07 00:00:00+00:00  0.379118         93   \n",
              "7 2014-01-08 00:00:00+00:00 2014-01-08 00:00:00+00:00  0.308168         93   \n",
              "8 2014-01-09 00:00:00+00:00 2014-01-09 00:00:00+00:00  0.308168         93   \n",
              "9 2014-01-10 00:00:00+00:00 2014-01-10 00:00:00+00:00  0.220793         93   \n",
              "\n",
              "  time_period  \n",
              "0      0 days  \n",
              "1      0 days  \n",
              "2      0 days  \n",
              "3      0 days  \n",
              "4      0 days  \n",
              "5      0 days  \n",
              "6      0 days  \n",
              "7      0 days  \n",
              "8      0 days  \n",
              "9      0 days  "
            ],
            "text/html": [
              "\n",
              "  <div id=\"df-506f4c8c-7b6c-425a-9718-8700765b6552\">\n",
              "    <div class=\"colab-df-container\">\n",
              "      <div>\n",
              "<style scoped>\n",
              "    .dataframe tbody tr th:only-of-type {\n",
              "        vertical-align: middle;\n",
              "    }\n",
              "\n",
              "    .dataframe tbody tr th {\n",
              "        vertical-align: top;\n",
              "    }\n",
              "\n",
              "    .dataframe thead th {\n",
              "        text-align: right;\n",
              "    }\n",
              "</style>\n",
              "<table border=\"1\" class=\"dataframe\">\n",
              "  <thead>\n",
              "    <tr style=\"text-align: right;\">\n",
              "      <th></th>\n",
              "      <th>start_date</th>\n",
              "      <th>end_date</th>\n",
              "      <th>smos</th>\n",
              "      <th>region_id</th>\n",
              "      <th>time_period</th>\n",
              "    </tr>\n",
              "  </thead>\n",
              "  <tbody>\n",
              "    <tr>\n",
              "      <th>0</th>\n",
              "      <td>2014-01-01 00:00:00+00:00</td>\n",
              "      <td>2014-01-01 00:00:00+00:00</td>\n",
              "      <td>0.310787</td>\n",
              "      <td>93</td>\n",
              "      <td>0 days</td>\n",
              "    </tr>\n",
              "    <tr>\n",
              "      <th>1</th>\n",
              "      <td>2014-01-02 00:00:00+00:00</td>\n",
              "      <td>2014-01-02 00:00:00+00:00</td>\n",
              "      <td>0.192271</td>\n",
              "      <td>93</td>\n",
              "      <td>0 days</td>\n",
              "    </tr>\n",
              "    <tr>\n",
              "      <th>2</th>\n",
              "      <td>2014-01-03 00:00:00+00:00</td>\n",
              "      <td>2014-01-03 00:00:00+00:00</td>\n",
              "      <td>0.265683</td>\n",
              "      <td>93</td>\n",
              "      <td>0 days</td>\n",
              "    </tr>\n",
              "    <tr>\n",
              "      <th>3</th>\n",
              "      <td>2014-01-04 00:00:00+00:00</td>\n",
              "      <td>2014-01-04 00:00:00+00:00</td>\n",
              "      <td>0.265683</td>\n",
              "      <td>93</td>\n",
              "      <td>0 days</td>\n",
              "    </tr>\n",
              "    <tr>\n",
              "      <th>4</th>\n",
              "      <td>2014-01-05 00:00:00+00:00</td>\n",
              "      <td>2014-01-05 00:00:00+00:00</td>\n",
              "      <td>0.230782</td>\n",
              "      <td>93</td>\n",
              "      <td>0 days</td>\n",
              "    </tr>\n",
              "    <tr>\n",
              "      <th>5</th>\n",
              "      <td>2014-01-06 00:00:00+00:00</td>\n",
              "      <td>2014-01-06 00:00:00+00:00</td>\n",
              "      <td>0.379118</td>\n",
              "      <td>93</td>\n",
              "      <td>0 days</td>\n",
              "    </tr>\n",
              "    <tr>\n",
              "      <th>6</th>\n",
              "      <td>2014-01-07 00:00:00+00:00</td>\n",
              "      <td>2014-01-07 00:00:00+00:00</td>\n",
              "      <td>0.379118</td>\n",
              "      <td>93</td>\n",
              "      <td>0 days</td>\n",
              "    </tr>\n",
              "    <tr>\n",
              "      <th>7</th>\n",
              "      <td>2014-01-08 00:00:00+00:00</td>\n",
              "      <td>2014-01-08 00:00:00+00:00</td>\n",
              "      <td>0.308168</td>\n",
              "      <td>93</td>\n",
              "      <td>0 days</td>\n",
              "    </tr>\n",
              "    <tr>\n",
              "      <th>8</th>\n",
              "      <td>2014-01-09 00:00:00+00:00</td>\n",
              "      <td>2014-01-09 00:00:00+00:00</td>\n",
              "      <td>0.308168</td>\n",
              "      <td>93</td>\n",
              "      <td>0 days</td>\n",
              "    </tr>\n",
              "    <tr>\n",
              "      <th>9</th>\n",
              "      <td>2014-01-10 00:00:00+00:00</td>\n",
              "      <td>2014-01-10 00:00:00+00:00</td>\n",
              "      <td>0.220793</td>\n",
              "      <td>93</td>\n",
              "      <td>0 days</td>\n",
              "    </tr>\n",
              "  </tbody>\n",
              "</table>\n",
              "</div>\n",
              "      <button class=\"colab-df-convert\" onclick=\"convertToInteractive('df-506f4c8c-7b6c-425a-9718-8700765b6552')\"\n",
              "              title=\"Convert this dataframe to an interactive table.\"\n",
              "              style=\"display:none;\">\n",
              "        \n",
              "  <svg xmlns=\"http://www.w3.org/2000/svg\" height=\"24px\"viewBox=\"0 0 24 24\"\n",
              "       width=\"24px\">\n",
              "    <path d=\"M0 0h24v24H0V0z\" fill=\"none\"/>\n",
              "    <path d=\"M18.56 5.44l.94 2.06.94-2.06 2.06-.94-2.06-.94-.94-2.06-.94 2.06-2.06.94zm-11 1L8.5 8.5l.94-2.06 2.06-.94-2.06-.94L8.5 2.5l-.94 2.06-2.06.94zm10 10l.94 2.06.94-2.06 2.06-.94-2.06-.94-.94-2.06-.94 2.06-2.06.94z\"/><path d=\"M17.41 7.96l-1.37-1.37c-.4-.4-.92-.59-1.43-.59-.52 0-1.04.2-1.43.59L10.3 9.45l-7.72 7.72c-.78.78-.78 2.05 0 2.83L4 21.41c.39.39.9.59 1.41.59.51 0 1.02-.2 1.41-.59l7.78-7.78 2.81-2.81c.8-.78.8-2.07 0-2.86zM5.41 20L4 18.59l7.72-7.72 1.47 1.35L5.41 20z\"/>\n",
              "  </svg>\n",
              "      </button>\n",
              "      \n",
              "  <style>\n",
              "    .colab-df-container {\n",
              "      display:flex;\n",
              "      flex-wrap:wrap;\n",
              "      gap: 12px;\n",
              "    }\n",
              "\n",
              "    .colab-df-convert {\n",
              "      background-color: #E8F0FE;\n",
              "      border: none;\n",
              "      border-radius: 50%;\n",
              "      cursor: pointer;\n",
              "      display: none;\n",
              "      fill: #1967D2;\n",
              "      height: 32px;\n",
              "      padding: 0 0 0 0;\n",
              "      width: 32px;\n",
              "    }\n",
              "\n",
              "    .colab-df-convert:hover {\n",
              "      background-color: #E2EBFA;\n",
              "      box-shadow: 0px 1px 2px rgba(60, 64, 67, 0.3), 0px 1px 3px 1px rgba(60, 64, 67, 0.15);\n",
              "      fill: #174EA6;\n",
              "    }\n",
              "\n",
              "    [theme=dark] .colab-df-convert {\n",
              "      background-color: #3B4455;\n",
              "      fill: #D2E3FC;\n",
              "    }\n",
              "\n",
              "    [theme=dark] .colab-df-convert:hover {\n",
              "      background-color: #434B5C;\n",
              "      box-shadow: 0px 1px 3px 1px rgba(0, 0, 0, 0.15);\n",
              "      filter: drop-shadow(0px 1px 2px rgba(0, 0, 0, 0.3));\n",
              "      fill: #FFFFFF;\n",
              "    }\n",
              "  </style>\n",
              "\n",
              "      <script>\n",
              "        const buttonEl =\n",
              "          document.querySelector('#df-506f4c8c-7b6c-425a-9718-8700765b6552 button.colab-df-convert');\n",
              "        buttonEl.style.display =\n",
              "          google.colab.kernel.accessAllowed ? 'block' : 'none';\n",
              "\n",
              "        async function convertToInteractive(key) {\n",
              "          const element = document.querySelector('#df-506f4c8c-7b6c-425a-9718-8700765b6552');\n",
              "          const dataTable =\n",
              "            await google.colab.kernel.invokeFunction('convertToInteractive',\n",
              "                                                     [key], {});\n",
              "          if (!dataTable) return;\n",
              "\n",
              "          const docLinkHtml = 'Like what you see? Visit the ' +\n",
              "            '<a target=\"_blank\" href=https://colab.research.google.com/notebooks/data_table.ipynb>data table notebook</a>'\n",
              "            + ' to learn more about interactive tables.';\n",
              "          element.innerHTML = '';\n",
              "          dataTable['output_type'] = 'display_data';\n",
              "          await google.colab.output.renderOutput(dataTable, element);\n",
              "          const docLink = document.createElement('div');\n",
              "          docLink.innerHTML = docLinkHtml;\n",
              "          element.appendChild(docLink);\n",
              "        }\n",
              "      </script>\n",
              "    </div>\n",
              "  </div>\n",
              "  "
            ]
          },
          "metadata": {},
          "execution_count": 500
        }
      ]
    },
    {
      "cell_type": "code",
      "source": [
        "#print(dt.sample(10))\n",
        "print(dt['region_id'].value_counts())\n",
        "print(len(dt))"
      ],
      "metadata": {
        "colab": {
          "base_uri": "https://localhost:8080/"
        },
        "id": "NPGbwDZqji0W",
        "outputId": "8618e437-72fc-4234-da74-76021bb7ee57"
      },
      "execution_count": 501,
      "outputs": [
        {
          "output_type": "stream",
          "name": "stdout",
          "text": [
            "102    1577\n",
            "99     1555\n",
            "103    1419\n",
            "94     1354\n",
            "95     1283\n",
            "98     1276\n",
            "105    1262\n",
            "104    1140\n",
            "93     1053\n",
            "97     1011\n",
            "Name: region_id, dtype: int64\n",
            "12930\n"
          ]
        }
      ]
    },
    {
      "cell_type": "code",
      "source": [
        "#getting time frame as a feature\n",
        "dt['start_date']= pd.to_datetime(dt['start_date'])\n",
        "dt['end_date']= pd.to_datetime(dt['end_date'])\n",
        "dt.dtypes\n",
        "dt['time_period'] = dt['end_date'] - dt['start_date']\n",
        "dt.head(10)"
      ],
      "metadata": {
        "colab": {
          "base_uri": "https://localhost:8080/",
          "height": 363
        },
        "id": "pC53YWU-oJ2K",
        "outputId": "c677bba8-d33d-4f2c-ae46-236ae00676d8"
      },
      "execution_count": 502,
      "outputs": [
        {
          "output_type": "execute_result",
          "data": {
            "text/plain": [
              "                 start_date                  end_date       temp  region_id  \\\n",
              "0 2014-01-02 00:00:00+00:00 2014-01-02 00:00:00+00:00  24.707605         93   \n",
              "1 2014-01-11 00:00:00+00:00 2014-01-11 00:00:00+00:00  26.421176         93   \n",
              "2 2014-01-15 00:00:00+00:00 2014-01-15 00:00:00+00:00  24.305642         93   \n",
              "3 2014-01-20 00:00:00+00:00 2014-01-20 00:00:00+00:00  25.142744         93   \n",
              "4 2014-01-23 00:00:00+00:00 2014-01-23 00:00:00+00:00  23.653173         93   \n",
              "5 2014-01-24 00:00:00+00:00 2014-01-24 00:00:00+00:00  23.754308         93   \n",
              "6 2014-01-25 00:00:00+00:00 2014-01-25 00:00:00+00:00  24.396083         93   \n",
              "7 2014-01-26 00:00:00+00:00 2014-01-26 00:00:00+00:00  24.274063         93   \n",
              "8 2014-01-27 00:00:00+00:00 2014-01-27 00:00:00+00:00  27.065031         93   \n",
              "9 2014-01-29 00:00:00+00:00 2014-01-29 00:00:00+00:00  27.971727         93   \n",
              "\n",
              "  time_period  \n",
              "0      0 days  \n",
              "1      0 days  \n",
              "2      0 days  \n",
              "3      0 days  \n",
              "4      0 days  \n",
              "5      0 days  \n",
              "6      0 days  \n",
              "7      0 days  \n",
              "8      0 days  \n",
              "9      0 days  "
            ],
            "text/html": [
              "\n",
              "  <div id=\"df-3dc5ecf4-f064-40f2-9217-ea3fb522073e\">\n",
              "    <div class=\"colab-df-container\">\n",
              "      <div>\n",
              "<style scoped>\n",
              "    .dataframe tbody tr th:only-of-type {\n",
              "        vertical-align: middle;\n",
              "    }\n",
              "\n",
              "    .dataframe tbody tr th {\n",
              "        vertical-align: top;\n",
              "    }\n",
              "\n",
              "    .dataframe thead th {\n",
              "        text-align: right;\n",
              "    }\n",
              "</style>\n",
              "<table border=\"1\" class=\"dataframe\">\n",
              "  <thead>\n",
              "    <tr style=\"text-align: right;\">\n",
              "      <th></th>\n",
              "      <th>start_date</th>\n",
              "      <th>end_date</th>\n",
              "      <th>temp</th>\n",
              "      <th>region_id</th>\n",
              "      <th>time_period</th>\n",
              "    </tr>\n",
              "  </thead>\n",
              "  <tbody>\n",
              "    <tr>\n",
              "      <th>0</th>\n",
              "      <td>2014-01-02 00:00:00+00:00</td>\n",
              "      <td>2014-01-02 00:00:00+00:00</td>\n",
              "      <td>24.707605</td>\n",
              "      <td>93</td>\n",
              "      <td>0 days</td>\n",
              "    </tr>\n",
              "    <tr>\n",
              "      <th>1</th>\n",
              "      <td>2014-01-11 00:00:00+00:00</td>\n",
              "      <td>2014-01-11 00:00:00+00:00</td>\n",
              "      <td>26.421176</td>\n",
              "      <td>93</td>\n",
              "      <td>0 days</td>\n",
              "    </tr>\n",
              "    <tr>\n",
              "      <th>2</th>\n",
              "      <td>2014-01-15 00:00:00+00:00</td>\n",
              "      <td>2014-01-15 00:00:00+00:00</td>\n",
              "      <td>24.305642</td>\n",
              "      <td>93</td>\n",
              "      <td>0 days</td>\n",
              "    </tr>\n",
              "    <tr>\n",
              "      <th>3</th>\n",
              "      <td>2014-01-20 00:00:00+00:00</td>\n",
              "      <td>2014-01-20 00:00:00+00:00</td>\n",
              "      <td>25.142744</td>\n",
              "      <td>93</td>\n",
              "      <td>0 days</td>\n",
              "    </tr>\n",
              "    <tr>\n",
              "      <th>4</th>\n",
              "      <td>2014-01-23 00:00:00+00:00</td>\n",
              "      <td>2014-01-23 00:00:00+00:00</td>\n",
              "      <td>23.653173</td>\n",
              "      <td>93</td>\n",
              "      <td>0 days</td>\n",
              "    </tr>\n",
              "    <tr>\n",
              "      <th>5</th>\n",
              "      <td>2014-01-24 00:00:00+00:00</td>\n",
              "      <td>2014-01-24 00:00:00+00:00</td>\n",
              "      <td>23.754308</td>\n",
              "      <td>93</td>\n",
              "      <td>0 days</td>\n",
              "    </tr>\n",
              "    <tr>\n",
              "      <th>6</th>\n",
              "      <td>2014-01-25 00:00:00+00:00</td>\n",
              "      <td>2014-01-25 00:00:00+00:00</td>\n",
              "      <td>24.396083</td>\n",
              "      <td>93</td>\n",
              "      <td>0 days</td>\n",
              "    </tr>\n",
              "    <tr>\n",
              "      <th>7</th>\n",
              "      <td>2014-01-26 00:00:00+00:00</td>\n",
              "      <td>2014-01-26 00:00:00+00:00</td>\n",
              "      <td>24.274063</td>\n",
              "      <td>93</td>\n",
              "      <td>0 days</td>\n",
              "    </tr>\n",
              "    <tr>\n",
              "      <th>8</th>\n",
              "      <td>2014-01-27 00:00:00+00:00</td>\n",
              "      <td>2014-01-27 00:00:00+00:00</td>\n",
              "      <td>27.065031</td>\n",
              "      <td>93</td>\n",
              "      <td>0 days</td>\n",
              "    </tr>\n",
              "    <tr>\n",
              "      <th>9</th>\n",
              "      <td>2014-01-29 00:00:00+00:00</td>\n",
              "      <td>2014-01-29 00:00:00+00:00</td>\n",
              "      <td>27.971727</td>\n",
              "      <td>93</td>\n",
              "      <td>0 days</td>\n",
              "    </tr>\n",
              "  </tbody>\n",
              "</table>\n",
              "</div>\n",
              "      <button class=\"colab-df-convert\" onclick=\"convertToInteractive('df-3dc5ecf4-f064-40f2-9217-ea3fb522073e')\"\n",
              "              title=\"Convert this dataframe to an interactive table.\"\n",
              "              style=\"display:none;\">\n",
              "        \n",
              "  <svg xmlns=\"http://www.w3.org/2000/svg\" height=\"24px\"viewBox=\"0 0 24 24\"\n",
              "       width=\"24px\">\n",
              "    <path d=\"M0 0h24v24H0V0z\" fill=\"none\"/>\n",
              "    <path d=\"M18.56 5.44l.94 2.06.94-2.06 2.06-.94-2.06-.94-.94-2.06-.94 2.06-2.06.94zm-11 1L8.5 8.5l.94-2.06 2.06-.94-2.06-.94L8.5 2.5l-.94 2.06-2.06.94zm10 10l.94 2.06.94-2.06 2.06-.94-2.06-.94-.94-2.06-.94 2.06-2.06.94z\"/><path d=\"M17.41 7.96l-1.37-1.37c-.4-.4-.92-.59-1.43-.59-.52 0-1.04.2-1.43.59L10.3 9.45l-7.72 7.72c-.78.78-.78 2.05 0 2.83L4 21.41c.39.39.9.59 1.41.59.51 0 1.02-.2 1.41-.59l7.78-7.78 2.81-2.81c.8-.78.8-2.07 0-2.86zM5.41 20L4 18.59l7.72-7.72 1.47 1.35L5.41 20z\"/>\n",
              "  </svg>\n",
              "      </button>\n",
              "      \n",
              "  <style>\n",
              "    .colab-df-container {\n",
              "      display:flex;\n",
              "      flex-wrap:wrap;\n",
              "      gap: 12px;\n",
              "    }\n",
              "\n",
              "    .colab-df-convert {\n",
              "      background-color: #E8F0FE;\n",
              "      border: none;\n",
              "      border-radius: 50%;\n",
              "      cursor: pointer;\n",
              "      display: none;\n",
              "      fill: #1967D2;\n",
              "      height: 32px;\n",
              "      padding: 0 0 0 0;\n",
              "      width: 32px;\n",
              "    }\n",
              "\n",
              "    .colab-df-convert:hover {\n",
              "      background-color: #E2EBFA;\n",
              "      box-shadow: 0px 1px 2px rgba(60, 64, 67, 0.3), 0px 1px 3px 1px rgba(60, 64, 67, 0.15);\n",
              "      fill: #174EA6;\n",
              "    }\n",
              "\n",
              "    [theme=dark] .colab-df-convert {\n",
              "      background-color: #3B4455;\n",
              "      fill: #D2E3FC;\n",
              "    }\n",
              "\n",
              "    [theme=dark] .colab-df-convert:hover {\n",
              "      background-color: #434B5C;\n",
              "      box-shadow: 0px 1px 3px 1px rgba(0, 0, 0, 0.15);\n",
              "      filter: drop-shadow(0px 1px 2px rgba(0, 0, 0, 0.3));\n",
              "      fill: #FFFFFF;\n",
              "    }\n",
              "  </style>\n",
              "\n",
              "      <script>\n",
              "        const buttonEl =\n",
              "          document.querySelector('#df-3dc5ecf4-f064-40f2-9217-ea3fb522073e button.colab-df-convert');\n",
              "        buttonEl.style.display =\n",
              "          google.colab.kernel.accessAllowed ? 'block' : 'none';\n",
              "\n",
              "        async function convertToInteractive(key) {\n",
              "          const element = document.querySelector('#df-3dc5ecf4-f064-40f2-9217-ea3fb522073e');\n",
              "          const dataTable =\n",
              "            await google.colab.kernel.invokeFunction('convertToInteractive',\n",
              "                                                     [key], {});\n",
              "          if (!dataTable) return;\n",
              "\n",
              "          const docLinkHtml = 'Like what you see? Visit the ' +\n",
              "            '<a target=\"_blank\" href=https://colab.research.google.com/notebooks/data_table.ipynb>data table notebook</a>'\n",
              "            + ' to learn more about interactive tables.';\n",
              "          element.innerHTML = '';\n",
              "          dataTable['output_type'] = 'display_data';\n",
              "          await google.colab.output.renderOutput(dataTable, element);\n",
              "          const docLink = document.createElement('div');\n",
              "          docLink.innerHTML = docLinkHtml;\n",
              "          element.appendChild(docLink);\n",
              "        }\n",
              "      </script>\n",
              "    </div>\n",
              "  </div>\n",
              "  "
            ]
          },
          "metadata": {},
          "execution_count": 502
        }
      ]
    },
    {
      "cell_type": "code",
      "source": [
        "#print(ed.sample(10))\n",
        "print(ed['region_id'].value_counts())\n",
        "print(len(ed))"
      ],
      "metadata": {
        "colab": {
          "base_uri": "https://localhost:8080/"
        },
        "id": "dIHuTOggkR6N",
        "outputId": "8ec3977a-cd61-466b-81b5-ec012c5a8e45"
      },
      "execution_count": 503,
      "outputs": [
        {
          "output_type": "stream",
          "name": "stdout",
          "text": [
            "102    363\n",
            "99     361\n",
            "103    353\n",
            "94     340\n",
            "98     333\n",
            "95     332\n",
            "93     320\n",
            "97     319\n",
            "105    310\n",
            "104    307\n",
            "Name: region_id, dtype: int64\n",
            "3338\n"
          ]
        }
      ]
    },
    {
      "cell_type": "code",
      "source": [
        "#getting time frame as a feature\n",
        "ed['start_date']= pd.to_datetime(ed['start_date'])\n",
        "ed['end_date']= pd.to_datetime(ed['end_date'])\n",
        "ed.dtypes\n",
        "ed['time_period'] = ed['end_date'] - ed['start_date']\n",
        "ed.head(10)"
      ],
      "metadata": {
        "colab": {
          "base_uri": "https://localhost:8080/",
          "height": 363
        },
        "id": "jdx1kpMaocuH",
        "outputId": "2c293000-3894-4091-8b0f-9add5b0f2905"
      },
      "execution_count": 504,
      "outputs": [
        {
          "output_type": "execute_result",
          "data": {
            "text/plain": [
              "                 start_date                  end_date      ndvi  region_id  \\\n",
              "0 2013-12-27 00:00:00+00:00 2014-01-03 00:00:00+00:00  0.679106         93   \n",
              "1 2014-01-01 00:00:00+00:00 2014-01-08 00:00:00+00:00  0.701431         93   \n",
              "2 2014-01-09 00:00:00+00:00 2014-01-16 00:00:00+00:00  0.745149         93   \n",
              "3 2014-01-17 00:00:00+00:00 2014-01-24 00:00:00+00:00  0.747391         93   \n",
              "4 2014-01-25 00:00:00+00:00 2014-02-01 00:00:00+00:00  0.768325         93   \n",
              "5 2014-02-02 00:00:00+00:00 2014-02-09 00:00:00+00:00  0.757172         93   \n",
              "6 2014-02-10 00:00:00+00:00 2014-02-17 00:00:00+00:00  0.779810         93   \n",
              "7 2014-02-18 00:00:00+00:00 2014-02-25 00:00:00+00:00  0.765280         93   \n",
              "8 2014-02-26 00:00:00+00:00 2014-03-05 00:00:00+00:00  0.761799         93   \n",
              "9 2014-03-06 00:00:00+00:00 2014-03-13 00:00:00+00:00  0.722182         93   \n",
              "\n",
              "  time_period  \n",
              "0      7 days  \n",
              "1      7 days  \n",
              "2      7 days  \n",
              "3      7 days  \n",
              "4      7 days  \n",
              "5      7 days  \n",
              "6      7 days  \n",
              "7      7 days  \n",
              "8      7 days  \n",
              "9      7 days  "
            ],
            "text/html": [
              "\n",
              "  <div id=\"df-bf754e94-aa29-440e-b423-14f2c599b233\">\n",
              "    <div class=\"colab-df-container\">\n",
              "      <div>\n",
              "<style scoped>\n",
              "    .dataframe tbody tr th:only-of-type {\n",
              "        vertical-align: middle;\n",
              "    }\n",
              "\n",
              "    .dataframe tbody tr th {\n",
              "        vertical-align: top;\n",
              "    }\n",
              "\n",
              "    .dataframe thead th {\n",
              "        text-align: right;\n",
              "    }\n",
              "</style>\n",
              "<table border=\"1\" class=\"dataframe\">\n",
              "  <thead>\n",
              "    <tr style=\"text-align: right;\">\n",
              "      <th></th>\n",
              "      <th>start_date</th>\n",
              "      <th>end_date</th>\n",
              "      <th>ndvi</th>\n",
              "      <th>region_id</th>\n",
              "      <th>time_period</th>\n",
              "    </tr>\n",
              "  </thead>\n",
              "  <tbody>\n",
              "    <tr>\n",
              "      <th>0</th>\n",
              "      <td>2013-12-27 00:00:00+00:00</td>\n",
              "      <td>2014-01-03 00:00:00+00:00</td>\n",
              "      <td>0.679106</td>\n",
              "      <td>93</td>\n",
              "      <td>7 days</td>\n",
              "    </tr>\n",
              "    <tr>\n",
              "      <th>1</th>\n",
              "      <td>2014-01-01 00:00:00+00:00</td>\n",
              "      <td>2014-01-08 00:00:00+00:00</td>\n",
              "      <td>0.701431</td>\n",
              "      <td>93</td>\n",
              "      <td>7 days</td>\n",
              "    </tr>\n",
              "    <tr>\n",
              "      <th>2</th>\n",
              "      <td>2014-01-09 00:00:00+00:00</td>\n",
              "      <td>2014-01-16 00:00:00+00:00</td>\n",
              "      <td>0.745149</td>\n",
              "      <td>93</td>\n",
              "      <td>7 days</td>\n",
              "    </tr>\n",
              "    <tr>\n",
              "      <th>3</th>\n",
              "      <td>2014-01-17 00:00:00+00:00</td>\n",
              "      <td>2014-01-24 00:00:00+00:00</td>\n",
              "      <td>0.747391</td>\n",
              "      <td>93</td>\n",
              "      <td>7 days</td>\n",
              "    </tr>\n",
              "    <tr>\n",
              "      <th>4</th>\n",
              "      <td>2014-01-25 00:00:00+00:00</td>\n",
              "      <td>2014-02-01 00:00:00+00:00</td>\n",
              "      <td>0.768325</td>\n",
              "      <td>93</td>\n",
              "      <td>7 days</td>\n",
              "    </tr>\n",
              "    <tr>\n",
              "      <th>5</th>\n",
              "      <td>2014-02-02 00:00:00+00:00</td>\n",
              "      <td>2014-02-09 00:00:00+00:00</td>\n",
              "      <td>0.757172</td>\n",
              "      <td>93</td>\n",
              "      <td>7 days</td>\n",
              "    </tr>\n",
              "    <tr>\n",
              "      <th>6</th>\n",
              "      <td>2014-02-10 00:00:00+00:00</td>\n",
              "      <td>2014-02-17 00:00:00+00:00</td>\n",
              "      <td>0.779810</td>\n",
              "      <td>93</td>\n",
              "      <td>7 days</td>\n",
              "    </tr>\n",
              "    <tr>\n",
              "      <th>7</th>\n",
              "      <td>2014-02-18 00:00:00+00:00</td>\n",
              "      <td>2014-02-25 00:00:00+00:00</td>\n",
              "      <td>0.765280</td>\n",
              "      <td>93</td>\n",
              "      <td>7 days</td>\n",
              "    </tr>\n",
              "    <tr>\n",
              "      <th>8</th>\n",
              "      <td>2014-02-26 00:00:00+00:00</td>\n",
              "      <td>2014-03-05 00:00:00+00:00</td>\n",
              "      <td>0.761799</td>\n",
              "      <td>93</td>\n",
              "      <td>7 days</td>\n",
              "    </tr>\n",
              "    <tr>\n",
              "      <th>9</th>\n",
              "      <td>2014-03-06 00:00:00+00:00</td>\n",
              "      <td>2014-03-13 00:00:00+00:00</td>\n",
              "      <td>0.722182</td>\n",
              "      <td>93</td>\n",
              "      <td>7 days</td>\n",
              "    </tr>\n",
              "  </tbody>\n",
              "</table>\n",
              "</div>\n",
              "      <button class=\"colab-df-convert\" onclick=\"convertToInteractive('df-bf754e94-aa29-440e-b423-14f2c599b233')\"\n",
              "              title=\"Convert this dataframe to an interactive table.\"\n",
              "              style=\"display:none;\">\n",
              "        \n",
              "  <svg xmlns=\"http://www.w3.org/2000/svg\" height=\"24px\"viewBox=\"0 0 24 24\"\n",
              "       width=\"24px\">\n",
              "    <path d=\"M0 0h24v24H0V0z\" fill=\"none\"/>\n",
              "    <path d=\"M18.56 5.44l.94 2.06.94-2.06 2.06-.94-2.06-.94-.94-2.06-.94 2.06-2.06.94zm-11 1L8.5 8.5l.94-2.06 2.06-.94-2.06-.94L8.5 2.5l-.94 2.06-2.06.94zm10 10l.94 2.06.94-2.06 2.06-.94-2.06-.94-.94-2.06-.94 2.06-2.06.94z\"/><path d=\"M17.41 7.96l-1.37-1.37c-.4-.4-.92-.59-1.43-.59-.52 0-1.04.2-1.43.59L10.3 9.45l-7.72 7.72c-.78.78-.78 2.05 0 2.83L4 21.41c.39.39.9.59 1.41.59.51 0 1.02-.2 1.41-.59l7.78-7.78 2.81-2.81c.8-.78.8-2.07 0-2.86zM5.41 20L4 18.59l7.72-7.72 1.47 1.35L5.41 20z\"/>\n",
              "  </svg>\n",
              "      </button>\n",
              "      \n",
              "  <style>\n",
              "    .colab-df-container {\n",
              "      display:flex;\n",
              "      flex-wrap:wrap;\n",
              "      gap: 12px;\n",
              "    }\n",
              "\n",
              "    .colab-df-convert {\n",
              "      background-color: #E8F0FE;\n",
              "      border: none;\n",
              "      border-radius: 50%;\n",
              "      cursor: pointer;\n",
              "      display: none;\n",
              "      fill: #1967D2;\n",
              "      height: 32px;\n",
              "      padding: 0 0 0 0;\n",
              "      width: 32px;\n",
              "    }\n",
              "\n",
              "    .colab-df-convert:hover {\n",
              "      background-color: #E2EBFA;\n",
              "      box-shadow: 0px 1px 2px rgba(60, 64, 67, 0.3), 0px 1px 3px 1px rgba(60, 64, 67, 0.15);\n",
              "      fill: #174EA6;\n",
              "    }\n",
              "\n",
              "    [theme=dark] .colab-df-convert {\n",
              "      background-color: #3B4455;\n",
              "      fill: #D2E3FC;\n",
              "    }\n",
              "\n",
              "    [theme=dark] .colab-df-convert:hover {\n",
              "      background-color: #434B5C;\n",
              "      box-shadow: 0px 1px 3px 1px rgba(0, 0, 0, 0.15);\n",
              "      filter: drop-shadow(0px 1px 2px rgba(0, 0, 0, 0.3));\n",
              "      fill: #FFFFFF;\n",
              "    }\n",
              "  </style>\n",
              "\n",
              "      <script>\n",
              "        const buttonEl =\n",
              "          document.querySelector('#df-bf754e94-aa29-440e-b423-14f2c599b233 button.colab-df-convert');\n",
              "        buttonEl.style.display =\n",
              "          google.colab.kernel.accessAllowed ? 'block' : 'none';\n",
              "\n",
              "        async function convertToInteractive(key) {\n",
              "          const element = document.querySelector('#df-bf754e94-aa29-440e-b423-14f2c599b233');\n",
              "          const dataTable =\n",
              "            await google.colab.kernel.invokeFunction('convertToInteractive',\n",
              "                                                     [key], {});\n",
              "          if (!dataTable) return;\n",
              "\n",
              "          const docLinkHtml = 'Like what you see? Visit the ' +\n",
              "            '<a target=\"_blank\" href=https://colab.research.google.com/notebooks/data_table.ipynb>data table notebook</a>'\n",
              "            + ' to learn more about interactive tables.';\n",
              "          element.innerHTML = '';\n",
              "          dataTable['output_type'] = 'display_data';\n",
              "          await google.colab.output.renderOutput(dataTable, element);\n",
              "          const docLink = document.createElement('div');\n",
              "          docLink.innerHTML = docLinkHtml;\n",
              "          element.appendChild(docLink);\n",
              "        }\n",
              "      </script>\n",
              "    </div>\n",
              "  </div>\n",
              "  "
            ]
          },
          "metadata": {},
          "execution_count": 504
        }
      ]
    },
    {
      "cell_type": "code",
      "source": [
        "#print(pp.sample(10))\n",
        "print(pp['region_id'].value_counts())\n",
        "print(len(pp))"
      ],
      "metadata": {
        "colab": {
          "base_uri": "https://localhost:8080/"
        },
        "id": "FvzLZ2nVk88A",
        "outputId": "059a63a1-8c81-4ec8-c3cb-5b6c02be05ea"
      },
      "execution_count": 505,
      "outputs": [
        {
          "output_type": "stream",
          "name": "stdout",
          "text": [
            "93     12\n",
            "94     12\n",
            "95     12\n",
            "97     12\n",
            "98     12\n",
            "99     12\n",
            "102    12\n",
            "103    12\n",
            "104    12\n",
            "105    12\n",
            "Name: region_id, dtype: int64\n",
            "120\n"
          ]
        }
      ]
    },
    {
      "cell_type": "code",
      "source": [
        "#getting time frame as a feature\n",
        "pp['start_date']= pd.to_datetime(pp['start_date'])\n",
        "pp['end_date']= pd.to_datetime(pp['end_date'])\n",
        "pp.dtypes\n",
        "#pp['time_period'] = pp['end_date'] - pp['start_date']\n",
        "pp.head(10)"
      ],
      "metadata": {
        "colab": {
          "base_uri": "https://localhost:8080/",
          "height": 363
        },
        "id": "_vZhtg94ohVs",
        "outputId": "3a364c39-f47b-4dbc-be26-b449ae9b8e30"
      },
      "execution_count": 506,
      "outputs": [
        {
          "output_type": "execute_result",
          "data": {
            "text/plain": [
              "                 start_date                  end_date  prod  region_id\n",
              "0 2021-01-01 00:00:00+00:00 2021-01-31 00:00:00+00:00   NaN         93\n",
              "1 2021-02-01 00:00:00+00:00 2021-02-28 00:00:00+00:00   NaN         93\n",
              "2 2021-03-01 00:00:00+00:00 2021-03-31 00:00:00+00:00   NaN         93\n",
              "3 2021-04-01 00:00:00+00:00 2021-04-30 00:00:00+00:00   NaN         93\n",
              "4 2021-05-01 00:00:00+00:00 2021-05-31 00:00:00+00:00   NaN         93\n",
              "5 2021-06-01 00:00:00+00:00 2021-06-30 00:00:00+00:00   NaN         93\n",
              "6 2021-07-01 00:00:00+00:00 2021-07-31 00:00:00+00:00   NaN         93\n",
              "7 2021-08-01 00:00:00+00:00 2021-08-31 00:00:00+00:00   NaN         93\n",
              "8 2021-09-01 00:00:00+00:00 2021-09-30 00:00:00+00:00   NaN         93\n",
              "9 2021-10-01 00:00:00+00:00 2021-10-31 00:00:00+00:00   NaN         93"
            ],
            "text/html": [
              "\n",
              "  <div id=\"df-f050d9fa-5e2b-42e3-aa07-e27074fda254\">\n",
              "    <div class=\"colab-df-container\">\n",
              "      <div>\n",
              "<style scoped>\n",
              "    .dataframe tbody tr th:only-of-type {\n",
              "        vertical-align: middle;\n",
              "    }\n",
              "\n",
              "    .dataframe tbody tr th {\n",
              "        vertical-align: top;\n",
              "    }\n",
              "\n",
              "    .dataframe thead th {\n",
              "        text-align: right;\n",
              "    }\n",
              "</style>\n",
              "<table border=\"1\" class=\"dataframe\">\n",
              "  <thead>\n",
              "    <tr style=\"text-align: right;\">\n",
              "      <th></th>\n",
              "      <th>start_date</th>\n",
              "      <th>end_date</th>\n",
              "      <th>prod</th>\n",
              "      <th>region_id</th>\n",
              "    </tr>\n",
              "  </thead>\n",
              "  <tbody>\n",
              "    <tr>\n",
              "      <th>0</th>\n",
              "      <td>2021-01-01 00:00:00+00:00</td>\n",
              "      <td>2021-01-31 00:00:00+00:00</td>\n",
              "      <td>NaN</td>\n",
              "      <td>93</td>\n",
              "    </tr>\n",
              "    <tr>\n",
              "      <th>1</th>\n",
              "      <td>2021-02-01 00:00:00+00:00</td>\n",
              "      <td>2021-02-28 00:00:00+00:00</td>\n",
              "      <td>NaN</td>\n",
              "      <td>93</td>\n",
              "    </tr>\n",
              "    <tr>\n",
              "      <th>2</th>\n",
              "      <td>2021-03-01 00:00:00+00:00</td>\n",
              "      <td>2021-03-31 00:00:00+00:00</td>\n",
              "      <td>NaN</td>\n",
              "      <td>93</td>\n",
              "    </tr>\n",
              "    <tr>\n",
              "      <th>3</th>\n",
              "      <td>2021-04-01 00:00:00+00:00</td>\n",
              "      <td>2021-04-30 00:00:00+00:00</td>\n",
              "      <td>NaN</td>\n",
              "      <td>93</td>\n",
              "    </tr>\n",
              "    <tr>\n",
              "      <th>4</th>\n",
              "      <td>2021-05-01 00:00:00+00:00</td>\n",
              "      <td>2021-05-31 00:00:00+00:00</td>\n",
              "      <td>NaN</td>\n",
              "      <td>93</td>\n",
              "    </tr>\n",
              "    <tr>\n",
              "      <th>5</th>\n",
              "      <td>2021-06-01 00:00:00+00:00</td>\n",
              "      <td>2021-06-30 00:00:00+00:00</td>\n",
              "      <td>NaN</td>\n",
              "      <td>93</td>\n",
              "    </tr>\n",
              "    <tr>\n",
              "      <th>6</th>\n",
              "      <td>2021-07-01 00:00:00+00:00</td>\n",
              "      <td>2021-07-31 00:00:00+00:00</td>\n",
              "      <td>NaN</td>\n",
              "      <td>93</td>\n",
              "    </tr>\n",
              "    <tr>\n",
              "      <th>7</th>\n",
              "      <td>2021-08-01 00:00:00+00:00</td>\n",
              "      <td>2021-08-31 00:00:00+00:00</td>\n",
              "      <td>NaN</td>\n",
              "      <td>93</td>\n",
              "    </tr>\n",
              "    <tr>\n",
              "      <th>8</th>\n",
              "      <td>2021-09-01 00:00:00+00:00</td>\n",
              "      <td>2021-09-30 00:00:00+00:00</td>\n",
              "      <td>NaN</td>\n",
              "      <td>93</td>\n",
              "    </tr>\n",
              "    <tr>\n",
              "      <th>9</th>\n",
              "      <td>2021-10-01 00:00:00+00:00</td>\n",
              "      <td>2021-10-31 00:00:00+00:00</td>\n",
              "      <td>NaN</td>\n",
              "      <td>93</td>\n",
              "    </tr>\n",
              "  </tbody>\n",
              "</table>\n",
              "</div>\n",
              "      <button class=\"colab-df-convert\" onclick=\"convertToInteractive('df-f050d9fa-5e2b-42e3-aa07-e27074fda254')\"\n",
              "              title=\"Convert this dataframe to an interactive table.\"\n",
              "              style=\"display:none;\">\n",
              "        \n",
              "  <svg xmlns=\"http://www.w3.org/2000/svg\" height=\"24px\"viewBox=\"0 0 24 24\"\n",
              "       width=\"24px\">\n",
              "    <path d=\"M0 0h24v24H0V0z\" fill=\"none\"/>\n",
              "    <path d=\"M18.56 5.44l.94 2.06.94-2.06 2.06-.94-2.06-.94-.94-2.06-.94 2.06-2.06.94zm-11 1L8.5 8.5l.94-2.06 2.06-.94-2.06-.94L8.5 2.5l-.94 2.06-2.06.94zm10 10l.94 2.06.94-2.06 2.06-.94-2.06-.94-.94-2.06-.94 2.06-2.06.94z\"/><path d=\"M17.41 7.96l-1.37-1.37c-.4-.4-.92-.59-1.43-.59-.52 0-1.04.2-1.43.59L10.3 9.45l-7.72 7.72c-.78.78-.78 2.05 0 2.83L4 21.41c.39.39.9.59 1.41.59.51 0 1.02-.2 1.41-.59l7.78-7.78 2.81-2.81c.8-.78.8-2.07 0-2.86zM5.41 20L4 18.59l7.72-7.72 1.47 1.35L5.41 20z\"/>\n",
              "  </svg>\n",
              "      </button>\n",
              "      \n",
              "  <style>\n",
              "    .colab-df-container {\n",
              "      display:flex;\n",
              "      flex-wrap:wrap;\n",
              "      gap: 12px;\n",
              "    }\n",
              "\n",
              "    .colab-df-convert {\n",
              "      background-color: #E8F0FE;\n",
              "      border: none;\n",
              "      border-radius: 50%;\n",
              "      cursor: pointer;\n",
              "      display: none;\n",
              "      fill: #1967D2;\n",
              "      height: 32px;\n",
              "      padding: 0 0 0 0;\n",
              "      width: 32px;\n",
              "    }\n",
              "\n",
              "    .colab-df-convert:hover {\n",
              "      background-color: #E2EBFA;\n",
              "      box-shadow: 0px 1px 2px rgba(60, 64, 67, 0.3), 0px 1px 3px 1px rgba(60, 64, 67, 0.15);\n",
              "      fill: #174EA6;\n",
              "    }\n",
              "\n",
              "    [theme=dark] .colab-df-convert {\n",
              "      background-color: #3B4455;\n",
              "      fill: #D2E3FC;\n",
              "    }\n",
              "\n",
              "    [theme=dark] .colab-df-convert:hover {\n",
              "      background-color: #434B5C;\n",
              "      box-shadow: 0px 1px 3px 1px rgba(0, 0, 0, 0.15);\n",
              "      filter: drop-shadow(0px 1px 2px rgba(0, 0, 0, 0.3));\n",
              "      fill: #FFFFFF;\n",
              "    }\n",
              "  </style>\n",
              "\n",
              "      <script>\n",
              "        const buttonEl =\n",
              "          document.querySelector('#df-f050d9fa-5e2b-42e3-aa07-e27074fda254 button.colab-df-convert');\n",
              "        buttonEl.style.display =\n",
              "          google.colab.kernel.accessAllowed ? 'block' : 'none';\n",
              "\n",
              "        async function convertToInteractive(key) {\n",
              "          const element = document.querySelector('#df-f050d9fa-5e2b-42e3-aa07-e27074fda254');\n",
              "          const dataTable =\n",
              "            await google.colab.kernel.invokeFunction('convertToInteractive',\n",
              "                                                     [key], {});\n",
              "          if (!dataTable) return;\n",
              "\n",
              "          const docLinkHtml = 'Like what you see? Visit the ' +\n",
              "            '<a target=\"_blank\" href=https://colab.research.google.com/notebooks/data_table.ipynb>data table notebook</a>'\n",
              "            + ' to learn more about interactive tables.';\n",
              "          element.innerHTML = '';\n",
              "          dataTable['output_type'] = 'display_data';\n",
              "          await google.colab.output.renderOutput(dataTable, element);\n",
              "          const docLink = document.createElement('div');\n",
              "          docLink.innerHTML = docLinkHtml;\n",
              "          element.appendChild(docLink);\n",
              "        }\n",
              "      </script>\n",
              "    </div>\n",
              "  </div>\n",
              "  "
            ]
          },
          "metadata": {},
          "execution_count": 506
        }
      ]
    },
    {
      "cell_type": "markdown",
      "source": [
        "Plotting out the target variable against features within its own data set"
      ],
      "metadata": {
        "id": "x92Qo8Gep7DO"
      }
    },
    {
      "cell_type": "code",
      "source": [
        "print(pq.head(10))\n",
        "plt.scatter('end_date', 'prod', c='region_id', data=pq )\n",
        "plt.legend()\n"
      ],
      "metadata": {
        "colab": {
          "base_uri": "https://localhost:8080/",
          "height": 682
        },
        "id": "AkYxLMl_lfHa",
        "outputId": "693753d1-d94c-4865-c9c5-4c6af2facf0f"
      },
      "execution_count": 507,
      "outputs": [
        {
          "output_type": "stream",
          "name": "stdout",
          "text": [
            "                 start_date                  end_date    prod  region_id  \\\n",
            "0 2015-01-01 00:00:00+00:00 2015-01-31 00:00:00+00:00  171725         93   \n",
            "1 2015-02-01 00:00:00+00:00 2015-02-28 00:00:00+00:00  188325         93   \n",
            "2 2015-03-01 00:00:00+00:00 2015-03-31 00:00:00+00:00  247856         93   \n",
            "3 2015-04-01 00:00:00+00:00 2015-04-30 00:00:00+00:00  282791         93   \n",
            "4 2015-05-01 00:00:00+00:00 2015-05-31 00:00:00+00:00  291057         93   \n",
            "5 2015-06-01 00:00:00+00:00 2015-06-30 00:00:00+00:00  287502         93   \n",
            "6 2015-07-01 00:00:00+00:00 2015-07-31 00:00:00+00:00  288086         93   \n",
            "7 2015-08-01 00:00:00+00:00 2015-08-31 00:00:00+00:00  313321         93   \n",
            "8 2015-09-01 00:00:00+00:00 2015-09-30 00:00:00+00:00  299337         93   \n",
            "9 2015-10-01 00:00:00+00:00 2015-10-31 00:00:00+00:00  300383         93   \n",
            "\n",
            "  time_period  \n",
            "0     30 days  \n",
            "1     27 days  \n",
            "2     30 days  \n",
            "3     29 days  \n",
            "4     30 days  \n",
            "5     29 days  \n",
            "6     30 days  \n",
            "7     30 days  \n",
            "8     29 days  \n",
            "9     30 days  \n"
          ]
        },
        {
          "output_type": "execute_result",
          "data": {
            "text/plain": [
              "<matplotlib.legend.Legend at 0x7f5d3e8cadd0>"
            ]
          },
          "metadata": {},
          "execution_count": 507
        },
        {
          "output_type": "display_data",
          "data": {
            "text/plain": [
              "<Figure size 432x288 with 1 Axes>"
            ],
            "image/png": "[encoded data removed]"
          },
          "metadata": {
            "needs_background": "light"
          }
        }
      ]
    },
    {
      "cell_type": "code",
      "source": [
        "pqregion = pq.groupby(['region_id'])['prod'].mean()"
      ],
      "metadata": {
        "id": "FqsNl4PTDp8f"
      },
      "execution_count": 508,
      "outputs": []
    },
    {
      "cell_type": "code",
      "source": [
        "#************************\n",
        "#important series of region and total production\n",
        "pqregion.sort_values()"
      ],
      "metadata": {
        "colab": {
          "base_uri": "https://localhost:8080/"
        },
        "id": "jUjwrKRxBuUt",
        "outputId": "6a0aa61a-d7de-45ba-8ee1-ceba93505e70"
      },
      "execution_count": 509,
      "outputs": [
        {
          "output_type": "execute_result",
          "data": {
            "text/plain": [
              "region_id\n",
              "94      21809.069444\n",
              "95      25608.611111\n",
              "104     41741.152778\n",
              "105     41961.694444\n",
              "97      54652.666667\n",
              "99     155615.208333\n",
              "98     236046.638889\n",
              "93     255817.361111\n",
              "103    331758.166667\n",
              "102    425131.444444\n",
              "Name: prod, dtype: float64"
            ]
          },
          "metadata": {},
          "execution_count": 509
        }
      ]
    },
    {
      "cell_type": "code",
      "source": [
        "#************************************************\n",
        "#Important graph of \n",
        "plt.bar(pqregion.index, pqregion.values, tick_label=pqregion.index)\n"
      ],
      "metadata": {
        "colab": {
          "base_uri": "https://localhost:8080/",
          "height": 282
        },
        "id": "lqmUv8Mdqzpk",
        "outputId": "0abbdb7e-bdcf-49b7-f07e-343086c06458"
      },
      "execution_count": 510,
      "outputs": [
        {
          "output_type": "execute_result",
          "data": {
            "text/plain": [
              "<BarContainer object of 10 artists>"
            ]
          },
          "metadata": {},
          "execution_count": 510
        },
        {
          "output_type": "display_data",
          "data": {
            "text/plain": [
              "<Figure size 432x288 with 1 Axes>"
            ],
            "image/png": "[encoded data removed]"
          },
          "metadata": {
            "needs_background": "light"
          }
        }
      ]
    },
    {
      "cell_type": "code",
      "source": [
        "pqtime = pq.groupby(['time_period'])['prod'].sum()\n",
        "pqtime.sort_values()"
      ],
      "metadata": {
        "colab": {
          "base_uri": "https://localhost:8080/"
        },
        "id": "VjYuQPEm0Tyk",
        "outputId": "dbf33d5f-4173-4816-b0ea-a0c693897c8b"
      },
      "execution_count": 511,
      "outputs": [
        {
          "output_type": "execute_result",
          "data": {
            "text/plain": [
              "time_period\n",
              "28 days     2302927\n",
              "27 days     5208726\n",
              "29 days    39599499\n",
              "30 days    67379073\n",
              "Name: prod, dtype: int64"
            ]
          },
          "metadata": {},
          "execution_count": 511
        }
      ]
    },
    {
      "cell_type": "markdown",
      "source": [
        "Exploring the other data sets against production for feature selection"
      ],
      "metadata": {
        "id": "7D9moDouyoyE"
      }
    },
    {
      "cell_type": "code",
      "source": [
        "dpregmean = dp.groupby(['region_id'])['precip'].mean()\n",
        "dpregsum = dp.groupby(['region_id'])['precip'].sum()"
      ],
      "metadata": {
        "id": "AWIdO3Yc3JgG"
      },
      "execution_count": 512,
      "outputs": []
    },
    {
      "cell_type": "code",
      "source": [
        "plt.bar(dpregsum.index, dpregsum.values, tick_label=dpregsum.index)"
      ],
      "metadata": {
        "colab": {
          "base_uri": "https://localhost:8080/",
          "height": 282
        },
        "id": "DB6_p2OmyZL2",
        "outputId": "da2838f3-992f-4287-c6dd-71f9b38be50e"
      },
      "execution_count": 513,
      "outputs": [
        {
          "output_type": "execute_result",
          "data": {
            "text/plain": [
              "<BarContainer object of 10 artists>"
            ]
          },
          "metadata": {},
          "execution_count": 513
        },
        {
          "output_type": "display_data",
          "data": {
            "text/plain": [
              "<Figure size 432x288 with 1 Axes>"
            ],
            "image/png": "[encoded data removed]"
          },
          "metadata": {
            "needs_background": "light"
          }
        }
      ]
    },
    {
      "cell_type": "code",
      "source": [
        "plt.bar(dpregmean.index, dpregmean.values, tick_label=dpregmean.index)"
      ],
      "metadata": {
        "colab": {
          "base_uri": "https://localhost:8080/",
          "height": 282
        },
        "id": "dSwvmK8xBD3Z",
        "outputId": "d7cac88b-fc76-4e20-e36d-4b7558680f55"
      },
      "execution_count": 514,
      "outputs": [
        {
          "output_type": "execute_result",
          "data": {
            "text/plain": [
              "<BarContainer object of 10 artists>"
            ]
          },
          "metadata": {},
          "execution_count": 514
        },
        {
          "output_type": "display_data",
          "data": {
            "text/plain": [
              "<Figure size 432x288 with 1 Axes>"
            ],
            "image/png": "[encoded data removed]"
          },
          "metadata": {
            "needs_background": "light"
          }
        }
      ]
    },
    {
      "cell_type": "markdown",
      "source": [
        "\n",
        "region 103 which is the second highest producing region is the highest precip region by far which would be good if 102 was also high precipitation region but its second to lowest. \n"
      ],
      "metadata": {
        "id": "3L7h9wKX3phv"
      }
    },
    {
      "cell_type": "code",
      "source": [
        "plt.scatter(dpregsum.values, pqregion.values)"
      ],
      "metadata": {
        "colab": {
          "base_uri": "https://localhost:8080/",
          "height": 282
        },
        "id": "t_expeHO4Cpp",
        "outputId": "95c66ccf-4672-4ee4-a93d-bac799348ffc"
      },
      "execution_count": 515,
      "outputs": [
        {
          "output_type": "execute_result",
          "data": {
            "text/plain": [
              "<matplotlib.collections.PathCollection at 0x7f5d3e614510>"
            ]
          },
          "metadata": {},
          "execution_count": 515
        },
        {
          "output_type": "display_data",
          "data": {
            "text/plain": [
              "<Figure size 432x288 with 1 Axes>"
            ],
            "image/png": "[encoded data removed]"
          },
          "metadata": {
            "needs_background": "light"
          }
        }
      ]
    },
    {
      "cell_type": "code",
      "source": [
        "corr, _  = pearsonr(dpregsum.values, pqregion.values)\n",
        "print('Pearsons correlation: ', corr)\n"
      ],
      "metadata": {
        "colab": {
          "base_uri": "https://localhost:8080/"
        },
        "id": "OKLrTdA1-jWC",
        "outputId": "37d019fb-15e2-4b31-fe7e-dd310e90e626"
      },
      "execution_count": 516,
      "outputs": [
        {
          "output_type": "stream",
          "name": "stdout",
          "text": [
            "Pearsons correlation:  0.09611396599782684\n"
          ]
        }
      ]
    },
    {
      "cell_type": "code",
      "source": [
        "from scipy.stats import spearmanr\n",
        "corr, _ = spearmanr(dpregsum.values, pqregion.values)\n",
        "print('Spearmans correlation:',corr)"
      ],
      "metadata": {
        "colab": {
          "base_uri": "https://localhost:8080/"
        },
        "id": "o5h8EbA6_mw0",
        "outputId": "04fcd12a-f03f-4bf1-f4ef-a22eb525dd47"
      },
      "execution_count": 517,
      "outputs": [
        {
          "output_type": "stream",
          "name": "stdout",
          "text": [
            "Spearmans correlation: -0.24848484848484845\n"
          ]
        }
      ]
    },
    {
      "cell_type": "markdown",
      "source": [
        "Now examining daily soil moisture"
      ],
      "metadata": {
        "id": "PezVe74b_nzT"
      }
    },
    {
      "cell_type": "code",
      "source": [
        "ds.head(10)\n",
        "dssum = ds.groupby(['region_id'])['smos'].sum()\n",
        "dssum.sort_values()"
      ],
      "metadata": {
        "colab": {
          "base_uri": "https://localhost:8080/"
        },
        "id": "Mz8YToJwBS3e",
        "outputId": "b4f62b6d-efc9-499a-a291-fb6eba51ced1"
      },
      "execution_count": 518,
      "outputs": [
        {
          "output_type": "execute_result",
          "data": {
            "text/plain": [
              "region_id\n",
              "98     602.719708\n",
              "105    649.676632\n",
              "102    652.366061\n",
              "95     739.406773\n",
              "103    751.265293\n",
              "97     766.120221\n",
              "99     835.282816\n",
              "104    959.630825\n",
              "93     965.158938\n",
              "94     967.335404\n",
              "Name: smos, dtype: float64"
            ]
          },
          "metadata": {},
          "execution_count": 518
        }
      ]
    },
    {
      "cell_type": "code",
      "source": [
        "plt.bar(dssum.index, dssum.values, tick_label=dssum.index)"
      ],
      "metadata": {
        "colab": {
          "base_uri": "https://localhost:8080/",
          "height": 283
        },
        "id": "YL3-IGpEBg53",
        "outputId": "4f18ba53-c843-4530-ebd5-cd89f960be4a"
      },
      "execution_count": 519,
      "outputs": [
        {
          "output_type": "execute_result",
          "data": {
            "text/plain": [
              "<BarContainer object of 10 artists>"
            ]
          },
          "metadata": {},
          "execution_count": 519
        },
        {
          "output_type": "display_data",
          "data": {
            "text/plain": [
              "<Figure size 432x288 with 1 Axes>"
            ],
            "image/png": "[encoded data removed]"
          },
          "metadata": {
            "needs_background": "light"
          }
        }
      ]
    },
    {
      "cell_type": "code",
      "source": [
        "corr, _  = pearsonr(dssum.values, pqregion.values)\n",
        "print('Pearsons correlation: ', corr)"
      ],
      "metadata": {
        "colab": {
          "base_uri": "https://localhost:8080/"
        },
        "id": "sOmqSHdPCM_S",
        "outputId": "dc522fa7-97ad-4f1a-8d24-acfb20addd85"
      },
      "execution_count": 520,
      "outputs": [
        {
          "output_type": "stream",
          "name": "stdout",
          "text": [
            "Pearsons correlation:  -0.32901402903819527\n"
          ]
        }
      ]
    },
    {
      "cell_type": "code",
      "source": [
        "corr, _ = spearmanr(dssum.values, pqregion.values)\n",
        "print('Spearmans correlation:',corr)"
      ],
      "metadata": {
        "colab": {
          "base_uri": "https://localhost:8080/"
        },
        "id": "-j1BPTesEBVK",
        "outputId": "22ab0eaf-8071-4df4-f60e-efe5758a1f47"
      },
      "execution_count": 521,
      "outputs": [
        {
          "output_type": "stream",
          "name": "stdout",
          "text": [
            "Spearmans correlation: -0.32121212121212117\n"
          ]
        }
      ]
    },
    {
      "cell_type": "code",
      "source": [
        "plt.scatter(dssum.values, pqregion.values)"
      ],
      "metadata": {
        "colab": {
          "base_uri": "https://localhost:8080/",
          "height": 282
        },
        "id": "6bOpHa3ICUjn",
        "outputId": "ed129384-9109-4933-d019-3e47dccbcf56"
      },
      "execution_count": 522,
      "outputs": [
        {
          "output_type": "execute_result",
          "data": {
            "text/plain": [
              "<matplotlib.collections.PathCollection at 0x7f5d3e511dd0>"
            ]
          },
          "metadata": {},
          "execution_count": 522
        },
        {
          "output_type": "display_data",
          "data": {
            "text/plain": [
              "<Figure size 432x288 with 1 Axes>"
            ],
            "image/png": "[encoded data removed]"
          },
          "metadata": {
            "needs_background": "light"
          }
        }
      ]
    },
    {
      "cell_type": "markdown",
      "source": [
        "Nothing has stuck out to me yet with using the sum/mean so I might try some other feature engineering if the other data isnt showing a bigger trend \n",
        "\n",
        "---\n",
        "\n"
      ],
      "metadata": {
        "id": "gSR5F3lZCQbA"
      }
    },
    {
      "cell_type": "code",
      "source": [
        "dt.head(10)\n",
        "dtmean = dt.groupby(['region_id'])['temp'].mean()\n",
        "dtmean.sort_values()"
      ],
      "metadata": {
        "colab": {
          "base_uri": "https://localhost:8080/"
        },
        "id": "rl1jlVIiQkYr",
        "outputId": "8d5c317a-be35-43cd-f01d-7f4727960b35"
      },
      "execution_count": 523,
      "outputs": [
        {
          "output_type": "execute_result",
          "data": {
            "text/plain": [
              "region_id\n",
              "103    25.358630\n",
              "102    25.573277\n",
              "99     26.171634\n",
              "95     26.204371\n",
              "105    26.298263\n",
              "98     26.336592\n",
              "93     27.316129\n",
              "97     27.388909\n",
              "94     27.688734\n",
              "104    27.913997\n",
              "Name: temp, dtype: float64"
            ]
          },
          "metadata": {},
          "execution_count": 523
        }
      ]
    },
    {
      "cell_type": "code",
      "source": [
        "plt.bar(dtmean.index, dtmean.values, tick_label=dtmean.index)"
      ],
      "metadata": {
        "colab": {
          "base_uri": "https://localhost:8080/",
          "height": 282
        },
        "id": "rl_nMDJiRXaO",
        "outputId": "b1c53215-6630-4ce0-b5e8-2a1f2e1a6513"
      },
      "execution_count": 524,
      "outputs": [
        {
          "output_type": "execute_result",
          "data": {
            "text/plain": [
              "<BarContainer object of 10 artists>"
            ]
          },
          "metadata": {},
          "execution_count": 524
        },
        {
          "output_type": "display_data",
          "data": {
            "text/plain": [
              "<Figure size 432x288 with 1 Axes>"
            ],
            "image/png": "[encoded data removed]"
          },
          "metadata": {
            "needs_background": "light"
          }
        }
      ]
    },
    {
      "cell_type": "code",
      "source": [
        "corr, _  = pearsonr(dtmean.values, pqregion.values)\n",
        "print('Pearsons correlation: ', corr)"
      ],
      "metadata": {
        "colab": {
          "base_uri": "https://localhost:8080/"
        },
        "id": "GyUXFFoMRzDc",
        "outputId": "c48d8dea-7396-465d-85b9-5b7e61cf25b0"
      },
      "execution_count": 525,
      "outputs": [
        {
          "output_type": "stream",
          "name": "stdout",
          "text": [
            "Pearsons correlation:  -0.6295464481173716\n"
          ]
        }
      ]
    },
    {
      "cell_type": "code",
      "source": [
        "corr, _ = spearmanr(dtmean.values, pqregion.values)\n",
        "print('Spearmans correlation:',corr)"
      ],
      "metadata": {
        "colab": {
          "base_uri": "https://localhost:8080/"
        },
        "id": "lzTcjrsyR4Rm",
        "outputId": "a943dd41-f1a1-4377-beef-0f2950ea29e2"
      },
      "execution_count": 526,
      "outputs": [
        {
          "output_type": "stream",
          "name": "stdout",
          "text": [
            "Spearmans correlation: -0.6121212121212121\n"
          ]
        }
      ]
    },
    {
      "cell_type": "markdown",
      "source": [
        "Pretty good negative correlation will probably use temperature in my model"
      ],
      "metadata": {
        "id": "JQrCvrn0Sktm"
      }
    },
    {
      "cell_type": "code",
      "source": [
        "ed.head(10)\n",
        "edmean = ed.groupby(['region_id'])['ndvi'].mean()\n",
        "edmean.sort_values()"
      ],
      "metadata": {
        "colab": {
          "base_uri": "https://localhost:8080/"
        },
        "id": "cbLzNoFZSjhA",
        "outputId": "8684b1c9-9d7d-40e6-fbdb-09caedcb1633"
      },
      "execution_count": 527,
      "outputs": [
        {
          "output_type": "execute_result",
          "data": {
            "text/plain": [
              "region_id\n",
              "104    0.765984\n",
              "94     0.773838\n",
              "95     0.789353\n",
              "105    0.795175\n",
              "93     0.796895\n",
              "97     0.797483\n",
              "99     0.806068\n",
              "98     0.809874\n",
              "103    0.818875\n",
              "102    0.824189\n",
              "Name: ndvi, dtype: float64"
            ]
          },
          "metadata": {},
          "execution_count": 527
        }
      ]
    },
    {
      "cell_type": "code",
      "source": [
        "corr, _  = pearsonr(edmean.values, pqregion.values)\n",
        "print('Pearsons correlation: ', corr)"
      ],
      "metadata": {
        "colab": {
          "base_uri": "https://localhost:8080/"
        },
        "id": "jUCT7nGoTSSj",
        "outputId": "7fa91ac0-0243-49c2-f862-74cab02c109e"
      },
      "execution_count": 528,
      "outputs": [
        {
          "output_type": "stream",
          "name": "stdout",
          "text": [
            "Pearsons correlation:  0.8313170299155294\n"
          ]
        }
      ]
    },
    {
      "cell_type": "code",
      "source": [
        "corr, _ = spearmanr(edmean.values, pqregion.values)\n",
        "print('Spearmans correlation:',corr)"
      ],
      "metadata": {
        "colab": {
          "base_uri": "https://localhost:8080/"
        },
        "id": "rpqKYntKTVoK",
        "outputId": "2af77541-81e6-44ea-ed5c-67dd39357c05"
      },
      "execution_count": 529,
      "outputs": [
        {
          "output_type": "stream",
          "name": "stdout",
          "text": [
            "Spearmans correlation: 0.8909090909090909\n"
          ]
        }
      ]
    },
    {
      "cell_type": "markdown",
      "source": [
        "Very strong correlation with eight day"
      ],
      "metadata": {
        "id": "QtTAhLUsTYM_"
      }
    },
    {
      "cell_type": "markdown",
      "source": [
        "Feature selection completed. Moving onto model building and selection"
      ],
      "metadata": {
        "id": "AFHtj80cVOtF"
      }
    },
    {
      "cell_type": "code",
      "source": [
        "#Realized I needed to add month column for final data set so im adding that feature to my data sets\n",
        "pq['month'] = pq['start_date'].dt.month\n",
        "pq.head(10)\n",
        "ed['month'] = ed['start_date'].dt.month\n",
        "ed.head(10)\n",
        "dt['month'] = dt['start_date'].dt.month\n",
        "ds['month'] = ds['start_date'].dt.month\n",
        "plt.bar(pq['month'], pq['prod'], tick_label=pq['month'])"
      ],
      "metadata": {
        "colab": {
          "base_uri": "https://localhost:8080/",
          "height": 282
        },
        "id": "lgMzV6BEh-uT",
        "outputId": "3ceb0bb2-50de-41d6-c01a-17681c66b78b"
      },
      "execution_count": 530,
      "outputs": [
        {
          "output_type": "execute_result",
          "data": {
            "text/plain": [
              "<BarContainer object of 720 artists>"
            ]
          },
          "metadata": {},
          "execution_count": 530
        },
        {
          "output_type": "display_data",
          "data": {
            "text/plain": [
              "<Figure size 432x288 with 1 Axes>"
            ],
            "image/png": "[encoded data removed]"
          },
          "metadata": {
            "needs_background": "light"
          }
        }
      ]
    },
    {
      "cell_type": "code",
      "source": [
        "plt.bar(ed['month'], ed['ndvi'], tick_label=ed['month'])"
      ],
      "metadata": {
        "colab": {
          "base_uri": "https://localhost:8080/",
          "height": 282
        },
        "id": "CfYj5cP1jKOS",
        "outputId": "81ef6466-26af-457a-ea40-4df29eed129a"
      },
      "execution_count": 531,
      "outputs": [
        {
          "output_type": "execute_result",
          "data": {
            "text/plain": [
              "<BarContainer object of 3338 artists>"
            ]
          },
          "metadata": {},
          "execution_count": 531
        },
        {
          "output_type": "display_data",
          "data": {
            "text/plain": [
              "<Figure size 432x288 with 1 Axes>"
            ],
            "image/png": "[encoded data removed]"
          },
          "metadata": {
            "needs_background": "light"
          }
        }
      ]
    },
    {
      "cell_type": "code",
      "source": [
        "#sampling the dt data to get data of same length \n",
        "print(len(ed))\n",
        "print(len(dt))\n",
        "print(len(pq))\n",
        "edsample = ed.sample(720)\n",
        "dtsample = dt.sample(720)\n",
        "#eddt = ed.merge(dt)\n",
        "#edsample\n",
        "all_data = pd.concat([edsample, dtsample], axis=1)\n",
        "dpsample = dp.sample(720)\n",
        "all_data.sample(720)\n",
        "all_data['temp'] = all_data['temp'].fillna(0)\n",
        "all_data['ndvi'] = all_data['ndvi'].fillna(1)\n",
        "edsample\n"
      ],
      "metadata": {
        "colab": {
          "base_uri": "https://localhost:8080/",
          "height": 476
        },
        "id": "kg_F1s3yWDwI",
        "outputId": "4c61bb01-3203-42a2-878c-aaba3b357c96"
      },
      "execution_count": 532,
      "outputs": [
        {
          "output_type": "stream",
          "name": "stdout",
          "text": [
            "3338\n",
            "12930\n",
            "720\n"
          ]
        },
        {
          "output_type": "execute_result",
          "data": {
            "text/plain": [
              "                    start_date                  end_date      ndvi  region_id  \\\n",
              "2079 2015-08-29 00:00:00+00:00 2015-09-05 00:00:00+00:00  0.814172        102   \n",
              "1271 2021-03-06 00:00:00+00:00 2021-03-13 00:00:00+00:00  0.790989         97   \n",
              "2657 2020-08-20 00:00:00+00:00 2020-08-27 00:00:00+00:00  0.841710        103   \n",
              "1684 2014-11-09 00:00:00+00:00 2014-11-16 00:00:00+00:00  0.792350         99   \n",
              "1015 2014-07-04 00:00:00+00:00 2014-07-11 00:00:00+00:00  0.778267         97   \n",
              "...                        ...                       ...       ...        ...   \n",
              "2864 2017-08-29 00:00:00+00:00 2017-09-05 00:00:00+00:00  0.758733        104   \n",
              "483  2017-11-17 00:00:00+00:00 2017-11-24 00:00:00+00:00  0.782776         94   \n",
              "2236 2019-03-14 00:00:00+00:00 2019-03-21 00:00:00+00:00  0.818645        102   \n",
              "2573 2018-10-16 00:00:00+00:00 2018-10-23 00:00:00+00:00  0.806370        103   \n",
              "2000 2022-02-02 00:00:00+00:00 2022-02-09 00:00:00+00:00  0.821585         99   \n",
              "\n",
              "     time_period  month  \n",
              "2079      7 days      8  \n",
              "1271      7 days      3  \n",
              "2657      7 days      8  \n",
              "1684      7 days     11  \n",
              "1015      7 days      7  \n",
              "...          ...    ...  \n",
              "2864      7 days      8  \n",
              "483       7 days     11  \n",
              "2236      7 days      3  \n",
              "2573      7 days     10  \n",
              "2000      7 days      2  \n",
              "\n",
              "[720 rows x 6 columns]"
            ],
            "text/html": [
              "\n",
              "  <div id=\"df-7c9d2837-c9ec-4c6d-acab-0610a9682e37\">\n",
              "    <div class=\"colab-df-container\">\n",
              "      <div>\n",
              "<style scoped>\n",
              "    .dataframe tbody tr th:only-of-type {\n",
              "        vertical-align: middle;\n",
              "    }\n",
              "\n",
              "    .dataframe tbody tr th {\n",
              "        vertical-align: top;\n",
              "    }\n",
              "\n",
              "    .dataframe thead th {\n",
              "        text-align: right;\n",
              "    }\n",
              "</style>\n",
              "<table border=\"1\" class=\"dataframe\">\n",
              "  <thead>\n",
              "    <tr style=\"text-align: right;\">\n",
              "      <th></th>\n",
              "      <th>start_date</th>\n",
              "      <th>end_date</th>\n",
              "      <th>ndvi</th>\n",
              "      <th>region_id</th>\n",
              "      <th>time_period</th>\n",
              "      <th>month</th>\n",
              "    </tr>\n",
              "  </thead>\n",
              "  <tbody>\n",
              "    <tr>\n",
              "      <th>2079</th>\n",
              "      <td>2015-08-29 00:00:00+00:00</td>\n",
              "      <td>2015-09-05 00:00:00+00:00</td>\n",
              "      <td>0.814172</td>\n",
              "      <td>102</td>\n",
              "      <td>7 days</td>\n",
              "      <td>8</td>\n",
              "    </tr>\n",
              "    <tr>\n",
              "      <th>1271</th>\n",
              "      <td>2021-03-06 00:00:00+00:00</td>\n",
              "      <td>2021-03-13 00:00:00+00:00</td>\n",
              "      <td>0.790989</td>\n",
              "      <td>97</td>\n",
              "      <td>7 days</td>\n",
              "      <td>3</td>\n",
              "    </tr>\n",
              "    <tr>\n",
              "      <th>2657</th>\n",
              "      <td>2020-08-20 00:00:00+00:00</td>\n",
              "      <td>2020-08-27 00:00:00+00:00</td>\n",
              "      <td>0.841710</td>\n",
              "      <td>103</td>\n",
              "      <td>7 days</td>\n",
              "      <td>8</td>\n",
              "    </tr>\n",
              "    <tr>\n",
              "      <th>1684</th>\n",
              "      <td>2014-11-09 00:00:00+00:00</td>\n",
              "      <td>2014-11-16 00:00:00+00:00</td>\n",
              "      <td>0.792350</td>\n",
              "      <td>99</td>\n",
              "      <td>7 days</td>\n",
              "      <td>11</td>\n",
              "    </tr>\n",
              "    <tr>\n",
              "      <th>1015</th>\n",
              "      <td>2014-07-04 00:00:00+00:00</td>\n",
              "      <td>2014-07-11 00:00:00+00:00</td>\n",
              "      <td>0.778267</td>\n",
              "      <td>97</td>\n",
              "      <td>7 days</td>\n",
              "      <td>7</td>\n",
              "    </tr>\n",
              "    <tr>\n",
              "      <th>...</th>\n",
              "      <td>...</td>\n",
              "      <td>...</td>\n",
              "      <td>...</td>\n",
              "      <td>...</td>\n",
              "      <td>...</td>\n",
              "      <td>...</td>\n",
              "    </tr>\n",
              "    <tr>\n",
              "      <th>2864</th>\n",
              "      <td>2017-08-29 00:00:00+00:00</td>\n",
              "      <td>2017-09-05 00:00:00+00:00</td>\n",
              "      <td>0.758733</td>\n",
              "      <td>104</td>\n",
              "      <td>7 days</td>\n",
              "      <td>8</td>\n",
              "    </tr>\n",
              "    <tr>\n",
              "      <th>483</th>\n",
              "      <td>2017-11-17 00:00:00+00:00</td>\n",
              "      <td>2017-11-24 00:00:00+00:00</td>\n",
              "      <td>0.782776</td>\n",
              "      <td>94</td>\n",
              "      <td>7 days</td>\n",
              "      <td>11</td>\n",
              "    </tr>\n",
              "    <tr>\n",
              "      <th>2236</th>\n",
              "      <td>2019-03-14 00:00:00+00:00</td>\n",
              "      <td>2019-03-21 00:00:00+00:00</td>\n",
              "      <td>0.818645</td>\n",
              "      <td>102</td>\n",
              "      <td>7 days</td>\n",
              "      <td>3</td>\n",
              "    </tr>\n",
              "    <tr>\n",
              "      <th>2573</th>\n",
              "      <td>2018-10-16 00:00:00+00:00</td>\n",
              "      <td>2018-10-23 00:00:00+00:00</td>\n",
              "      <td>0.806370</td>\n",
              "      <td>103</td>\n",
              "      <td>7 days</td>\n",
              "      <td>10</td>\n",
              "    </tr>\n",
              "    <tr>\n",
              "      <th>2000</th>\n",
              "      <td>2022-02-02 00:00:00+00:00</td>\n",
              "      <td>2022-02-09 00:00:00+00:00</td>\n",
              "      <td>0.821585</td>\n",
              "      <td>99</td>\n",
              "      <td>7 days</td>\n",
              "      <td>2</td>\n",
              "    </tr>\n",
              "  </tbody>\n",
              "</table>\n",
              "<p>720 rows × 6 columns</p>\n",
              "</div>\n",
              "      <button class=\"colab-df-convert\" onclick=\"convertToInteractive('df-7c9d2837-c9ec-4c6d-acab-0610a9682e37')\"\n",
              "              title=\"Convert this dataframe to an interactive table.\"\n",
              "              style=\"display:none;\">\n",
              "        \n",
              "  <svg xmlns=\"http://www.w3.org/2000/svg\" height=\"24px\"viewBox=\"0 0 24 24\"\n",
              "       width=\"24px\">\n",
              "    <path d=\"M0 0h24v24H0V0z\" fill=\"none\"/>\n",
              "    <path d=\"M18.56 5.44l.94 2.06.94-2.06 2.06-.94-2.06-.94-.94-2.06-.94 2.06-2.06.94zm-11 1L8.5 8.5l.94-2.06 2.06-.94-2.06-.94L8.5 2.5l-.94 2.06-2.06.94zm10 10l.94 2.06.94-2.06 2.06-.94-2.06-.94-.94-2.06-.94 2.06-2.06.94z\"/><path d=\"M17.41 7.96l-1.37-1.37c-.4-.4-.92-.59-1.43-.59-.52 0-1.04.2-1.43.59L10.3 9.45l-7.72 7.72c-.78.78-.78 2.05 0 2.83L4 21.41c.39.39.9.59 1.41.59.51 0 1.02-.2 1.41-.59l7.78-7.78 2.81-2.81c.8-.78.8-2.07 0-2.86zM5.41 20L4 18.59l7.72-7.72 1.47 1.35L5.41 20z\"/>\n",
              "  </svg>\n",
              "      </button>\n",
              "      \n",
              "  <style>\n",
              "    .colab-df-container {\n",
              "      display:flex;\n",
              "      flex-wrap:wrap;\n",
              "      gap: 12px;\n",
              "    }\n",
              "\n",
              "    .colab-df-convert {\n",
              "      background-color: #E8F0FE;\n",
              "      border: none;\n",
              "      border-radius: 50%;\n",
              "      cursor: pointer;\n",
              "      display: none;\n",
              "      fill: #1967D2;\n",
              "      height: 32px;\n",
              "      padding: 0 0 0 0;\n",
              "      width: 32px;\n",
              "    }\n",
              "\n",
              "    .colab-df-convert:hover {\n",
              "      background-color: #E2EBFA;\n",
              "      box-shadow: 0px 1px 2px rgba(60, 64, 67, 0.3), 0px 1px 3px 1px rgba(60, 64, 67, 0.15);\n",
              "      fill: #174EA6;\n",
              "    }\n",
              "\n",
              "    [theme=dark] .colab-df-convert {\n",
              "      background-color: #3B4455;\n",
              "      fill: #D2E3FC;\n",
              "    }\n",
              "\n",
              "    [theme=dark] .colab-df-convert:hover {\n",
              "      background-color: #434B5C;\n",
              "      box-shadow: 0px 1px 3px 1px rgba(0, 0, 0, 0.15);\n",
              "      filter: drop-shadow(0px 1px 2px rgba(0, 0, 0, 0.3));\n",
              "      fill: #FFFFFF;\n",
              "    }\n",
              "  </style>\n",
              "\n",
              "      <script>\n",
              "        const buttonEl =\n",
              "          document.querySelector('#df-7c9d2837-c9ec-4c6d-acab-0610a9682e37 button.colab-df-convert');\n",
              "        buttonEl.style.display =\n",
              "          google.colab.kernel.accessAllowed ? 'block' : 'none';\n",
              "\n",
              "        async function convertToInteractive(key) {\n",
              "          const element = document.querySelector('#df-7c9d2837-c9ec-4c6d-acab-0610a9682e37');\n",
              "          const dataTable =\n",
              "            await google.colab.kernel.invokeFunction('convertToInteractive',\n",
              "                                                     [key], {});\n",
              "          if (!dataTable) return;\n",
              "\n",
              "          const docLinkHtml = 'Like what you see? Visit the ' +\n",
              "            '<a target=\"_blank\" href=https://colab.research.google.com/notebooks/data_table.ipynb>data table notebook</a>'\n",
              "            + ' to learn more about interactive tables.';\n",
              "          element.innerHTML = '';\n",
              "          dataTable['output_type'] = 'display_data';\n",
              "          await google.colab.output.renderOutput(dataTable, element);\n",
              "          const docLink = document.createElement('div');\n",
              "          docLink.innerHTML = docLinkHtml;\n",
              "          element.appendChild(docLink);\n",
              "        }\n",
              "      </script>\n",
              "    </div>\n",
              "  </div>\n",
              "  "
            ]
          },
          "metadata": {},
          "execution_count": 532
        }
      ]
    },
    {
      "cell_type": "code",
      "source": [
        "plt.scatter('end_date', 'prod', c='region_id', data=pq )\n"
      ],
      "metadata": {
        "colab": {
          "base_uri": "https://localhost:8080/",
          "height": 282
        },
        "id": "LldLWHD04cZq",
        "outputId": "e047ed56-98d8-4c40-e313-301a9b73c984"
      },
      "execution_count": 534,
      "outputs": [
        {
          "output_type": "execute_result",
          "data": {
            "text/plain": [
              "<matplotlib.collections.PathCollection at 0x7f5d3f049310>"
            ]
          },
          "metadata": {},
          "execution_count": 534
        },
        {
          "output_type": "display_data",
          "data": {
            "text/plain": [
              "<Figure size 432x288 with 1 Axes>"
            ],
            "image/png": "[encoded data removed]"
          },
          "metadata": {
            "needs_background": "light"
          }
        }
      ]
    },
    {
      "cell_type": "code",
      "source": [
        "pqregion.sort_values()\n",
        "pqregion.to_frame()"
      ],
      "metadata": {
        "colab": {
          "base_uri": "https://localhost:8080/",
          "height": 394
        },
        "id": "H9tkYB0d5U4Y",
        "outputId": "7c7ebfd0-307d-41bc-db1e-86d7e57a39c3"
      },
      "execution_count": 535,
      "outputs": [
        {
          "output_type": "execute_result",
          "data": {
            "text/plain": [
              "                    prod\n",
              "region_id               \n",
              "93         255817.361111\n",
              "94          21809.069444\n",
              "95          25608.611111\n",
              "97          54652.666667\n",
              "98         236046.638889\n",
              "99         155615.208333\n",
              "102        425131.444444\n",
              "103        331758.166667\n",
              "104         41741.152778\n",
              "105         41961.694444"
            ],
            "text/html": [
              "\n",
              "  <div id=\"df-26a0cc81-6436-4ff2-93b3-1ef50101490d\">\n",
              "    <div class=\"colab-df-container\">\n",
              "      <div>\n",
              "<style scoped>\n",
              "    .dataframe tbody tr th:only-of-type {\n",
              "        vertical-align: middle;\n",
              "    }\n",
              "\n",
              "    .dataframe tbody tr th {\n",
              "        vertical-align: top;\n",
              "    }\n",
              "\n",
              "    .dataframe thead th {\n",
              "        text-align: right;\n",
              "    }\n",
              "</style>\n",
              "<table border=\"1\" class=\"dataframe\">\n",
              "  <thead>\n",
              "    <tr style=\"text-align: right;\">\n",
              "      <th></th>\n",
              "      <th>prod</th>\n",
              "    </tr>\n",
              "    <tr>\n",
              "      <th>region_id</th>\n",
              "      <th></th>\n",
              "    </tr>\n",
              "  </thead>\n",
              "  <tbody>\n",
              "    <tr>\n",
              "      <th>93</th>\n",
              "      <td>255817.361111</td>\n",
              "    </tr>\n",
              "    <tr>\n",
              "      <th>94</th>\n",
              "      <td>21809.069444</td>\n",
              "    </tr>\n",
              "    <tr>\n",
              "      <th>95</th>\n",
              "      <td>25608.611111</td>\n",
              "    </tr>\n",
              "    <tr>\n",
              "      <th>97</th>\n",
              "      <td>54652.666667</td>\n",
              "    </tr>\n",
              "    <tr>\n",
              "      <th>98</th>\n",
              "      <td>236046.638889</td>\n",
              "    </tr>\n",
              "    <tr>\n",
              "      <th>99</th>\n",
              "      <td>155615.208333</td>\n",
              "    </tr>\n",
              "    <tr>\n",
              "      <th>102</th>\n",
              "      <td>425131.444444</td>\n",
              "    </tr>\n",
              "    <tr>\n",
              "      <th>103</th>\n",
              "      <td>331758.166667</td>\n",
              "    </tr>\n",
              "    <tr>\n",
              "      <th>104</th>\n",
              "      <td>41741.152778</td>\n",
              "    </tr>\n",
              "    <tr>\n",
              "      <th>105</th>\n",
              "      <td>41961.694444</td>\n",
              "    </tr>\n",
              "  </tbody>\n",
              "</table>\n",
              "</div>\n",
              "      <button class=\"colab-df-convert\" onclick=\"convertToInteractive('df-26a0cc81-6436-4ff2-93b3-1ef50101490d')\"\n",
              "              title=\"Convert this dataframe to an interactive table.\"\n",
              "              style=\"display:none;\">\n",
              "        \n",
              "  <svg xmlns=\"http://www.w3.org/2000/svg\" height=\"24px\"viewBox=\"0 0 24 24\"\n",
              "       width=\"24px\">\n",
              "    <path d=\"M0 0h24v24H0V0z\" fill=\"none\"/>\n",
              "    <path d=\"M18.56 5.44l.94 2.06.94-2.06 2.06-.94-2.06-.94-.94-2.06-.94 2.06-2.06.94zm-11 1L8.5 8.5l.94-2.06 2.06-.94-2.06-.94L8.5 2.5l-.94 2.06-2.06.94zm10 10l.94 2.06.94-2.06 2.06-.94-2.06-.94-.94-2.06-.94 2.06-2.06.94z\"/><path d=\"M17.41 7.96l-1.37-1.37c-.4-.4-.92-.59-1.43-.59-.52 0-1.04.2-1.43.59L10.3 9.45l-7.72 7.72c-.78.78-.78 2.05 0 2.83L4 21.41c.39.39.9.59 1.41.59.51 0 1.02-.2 1.41-.59l7.78-7.78 2.81-2.81c.8-.78.8-2.07 0-2.86zM5.41 20L4 18.59l7.72-7.72 1.47 1.35L5.41 20z\"/>\n",
              "  </svg>\n",
              "      </button>\n",
              "      \n",
              "  <style>\n",
              "    .colab-df-container {\n",
              "      display:flex;\n",
              "      flex-wrap:wrap;\n",
              "      gap: 12px;\n",
              "    }\n",
              "\n",
              "    .colab-df-convert {\n",
              "      background-color: #E8F0FE;\n",
              "      border: none;\n",
              "      border-radius: 50%;\n",
              "      cursor: pointer;\n",
              "      display: none;\n",
              "      fill: #1967D2;\n",
              "      height: 32px;\n",
              "      padding: 0 0 0 0;\n",
              "      width: 32px;\n",
              "    }\n",
              "\n",
              "    .colab-df-convert:hover {\n",
              "      background-color: #E2EBFA;\n",
              "      box-shadow: 0px 1px 2px rgba(60, 64, 67, 0.3), 0px 1px 3px 1px rgba(60, 64, 67, 0.15);\n",
              "      fill: #174EA6;\n",
              "    }\n",
              "\n",
              "    [theme=dark] .colab-df-convert {\n",
              "      background-color: #3B4455;\n",
              "      fill: #D2E3FC;\n",
              "    }\n",
              "\n",
              "    [theme=dark] .colab-df-convert:hover {\n",
              "      background-color: #434B5C;\n",
              "      box-shadow: 0px 1px 3px 1px rgba(0, 0, 0, 0.15);\n",
              "      filter: drop-shadow(0px 1px 2px rgba(0, 0, 0, 0.3));\n",
              "      fill: #FFFFFF;\n",
              "    }\n",
              "  </style>\n",
              "\n",
              "      <script>\n",
              "        const buttonEl =\n",
              "          document.querySelector('#df-26a0cc81-6436-4ff2-93b3-1ef50101490d button.colab-df-convert');\n",
              "        buttonEl.style.display =\n",
              "          google.colab.kernel.accessAllowed ? 'block' : 'none';\n",
              "\n",
              "        async function convertToInteractive(key) {\n",
              "          const element = document.querySelector('#df-26a0cc81-6436-4ff2-93b3-1ef50101490d');\n",
              "          const dataTable =\n",
              "            await google.colab.kernel.invokeFunction('convertToInteractive',\n",
              "                                                     [key], {});\n",
              "          if (!dataTable) return;\n",
              "\n",
              "          const docLinkHtml = 'Like what you see? Visit the ' +\n",
              "            '<a target=\"_blank\" href=https://colab.research.google.com/notebooks/data_table.ipynb>data table notebook</a>'\n",
              "            + ' to learn more about interactive tables.';\n",
              "          element.innerHTML = '';\n",
              "          dataTable['output_type'] = 'display_data';\n",
              "          await google.colab.output.renderOutput(dataTable, element);\n",
              "          const docLink = document.createElement('div');\n",
              "          docLink.innerHTML = docLinkHtml;\n",
              "          element.appendChild(docLink);\n",
              "        }\n",
              "      </script>\n",
              "    </div>\n",
              "  </div>\n",
              "  "
            ]
          },
          "metadata": {},
          "execution_count": 535
        }
      ]
    },
    {
      "cell_type": "code",
      "source": [
        "dtmean = dt.groupby(['region_id'])['temp'].mean()\n",
        "dtmean.to_frame()"
      ],
      "metadata": {
        "colab": {
          "base_uri": "https://localhost:8080/",
          "height": 394
        },
        "id": "IMPfPUos_EeQ",
        "outputId": "41716678-2406-4c84-c305-184dfce1ae6b"
      },
      "execution_count": 536,
      "outputs": [
        {
          "output_type": "execute_result",
          "data": {
            "text/plain": [
              "                temp\n",
              "region_id           \n",
              "93         27.316129\n",
              "94         27.688734\n",
              "95         26.204371\n",
              "97         27.388909\n",
              "98         26.336592\n",
              "99         26.171634\n",
              "102        25.573277\n",
              "103        25.358630\n",
              "104        27.913997\n",
              "105        26.298263"
            ],
            "text/html": [
              "\n",
              "  <div id=\"df-01c1893d-7119-4f77-bf4a-c34b4d124bb5\">\n",
              "    <div class=\"colab-df-container\">\n",
              "      <div>\n",
              "<style scoped>\n",
              "    .dataframe tbody tr th:only-of-type {\n",
              "        vertical-align: middle;\n",
              "    }\n",
              "\n",
              "    .dataframe tbody tr th {\n",
              "        vertical-align: top;\n",
              "    }\n",
              "\n",
              "    .dataframe thead th {\n",
              "        text-align: right;\n",
              "    }\n",
              "</style>\n",
              "<table border=\"1\" class=\"dataframe\">\n",
              "  <thead>\n",
              "    <tr style=\"text-align: right;\">\n",
              "      <th></th>\n",
              "      <th>temp</th>\n",
              "    </tr>\n",
              "    <tr>\n",
              "      <th>region_id</th>\n",
              "      <th></th>\n",
              "    </tr>\n",
              "  </thead>\n",
              "  <tbody>\n",
              "    <tr>\n",
              "      <th>93</th>\n",
              "      <td>27.316129</td>\n",
              "    </tr>\n",
              "    <tr>\n",
              "      <th>94</th>\n",
              "      <td>27.688734</td>\n",
              "    </tr>\n",
              "    <tr>\n",
              "      <th>95</th>\n",
              "      <td>26.204371</td>\n",
              "    </tr>\n",
              "    <tr>\n",
              "      <th>97</th>\n",
              "      <td>27.388909</td>\n",
              "    </tr>\n",
              "    <tr>\n",
              "      <th>98</th>\n",
              "      <td>26.336592</td>\n",
              "    </tr>\n",
              "    <tr>\n",
              "      <th>99</th>\n",
              "      <td>26.171634</td>\n",
              "    </tr>\n",
              "    <tr>\n",
              "      <th>102</th>\n",
              "      <td>25.573277</td>\n",
              "    </tr>\n",
              "    <tr>\n",
              "      <th>103</th>\n",
              "      <td>25.358630</td>\n",
              "    </tr>\n",
              "    <tr>\n",
              "      <th>104</th>\n",
              "      <td>27.913997</td>\n",
              "    </tr>\n",
              "    <tr>\n",
              "      <th>105</th>\n",
              "      <td>26.298263</td>\n",
              "    </tr>\n",
              "  </tbody>\n",
              "</table>\n",
              "</div>\n",
              "      <button class=\"colab-df-convert\" onclick=\"convertToInteractive('df-01c1893d-7119-4f77-bf4a-c34b4d124bb5')\"\n",
              "              title=\"Convert this dataframe to an interactive table.\"\n",
              "              style=\"display:none;\">\n",
              "        \n",
              "  <svg xmlns=\"http://www.w3.org/2000/svg\" height=\"24px\"viewBox=\"0 0 24 24\"\n",
              "       width=\"24px\">\n",
              "    <path d=\"M0 0h24v24H0V0z\" fill=\"none\"/>\n",
              "    <path d=\"M18.56 5.44l.94 2.06.94-2.06 2.06-.94-2.06-.94-.94-2.06-.94 2.06-2.06.94zm-11 1L8.5 8.5l.94-2.06 2.06-.94-2.06-.94L8.5 2.5l-.94 2.06-2.06.94zm10 10l.94 2.06.94-2.06 2.06-.94-2.06-.94-.94-2.06-.94 2.06-2.06.94z\"/><path d=\"M17.41 7.96l-1.37-1.37c-.4-.4-.92-.59-1.43-.59-.52 0-1.04.2-1.43.59L10.3 9.45l-7.72 7.72c-.78.78-.78 2.05 0 2.83L4 21.41c.39.39.9.59 1.41.59.51 0 1.02-.2 1.41-.59l7.78-7.78 2.81-2.81c.8-.78.8-2.07 0-2.86zM5.41 20L4 18.59l7.72-7.72 1.47 1.35L5.41 20z\"/>\n",
              "  </svg>\n",
              "      </button>\n",
              "      \n",
              "  <style>\n",
              "    .colab-df-container {\n",
              "      display:flex;\n",
              "      flex-wrap:wrap;\n",
              "      gap: 12px;\n",
              "    }\n",
              "\n",
              "    .colab-df-convert {\n",
              "      background-color: #E8F0FE;\n",
              "      border: none;\n",
              "      border-radius: 50%;\n",
              "      cursor: pointer;\n",
              "      display: none;\n",
              "      fill: #1967D2;\n",
              "      height: 32px;\n",
              "      padding: 0 0 0 0;\n",
              "      width: 32px;\n",
              "    }\n",
              "\n",
              "    .colab-df-convert:hover {\n",
              "      background-color: #E2EBFA;\n",
              "      box-shadow: 0px 1px 2px rgba(60, 64, 67, 0.3), 0px 1px 3px 1px rgba(60, 64, 67, 0.15);\n",
              "      fill: #174EA6;\n",
              "    }\n",
              "\n",
              "    [theme=dark] .colab-df-convert {\n",
              "      background-color: #3B4455;\n",
              "      fill: #D2E3FC;\n",
              "    }\n",
              "\n",
              "    [theme=dark] .colab-df-convert:hover {\n",
              "      background-color: #434B5C;\n",
              "      box-shadow: 0px 1px 3px 1px rgba(0, 0, 0, 0.15);\n",
              "      filter: drop-shadow(0px 1px 2px rgba(0, 0, 0, 0.3));\n",
              "      fill: #FFFFFF;\n",
              "    }\n",
              "  </style>\n",
              "\n",
              "      <script>\n",
              "        const buttonEl =\n",
              "          document.querySelector('#df-01c1893d-7119-4f77-bf4a-c34b4d124bb5 button.colab-df-convert');\n",
              "        buttonEl.style.display =\n",
              "          google.colab.kernel.accessAllowed ? 'block' : 'none';\n",
              "\n",
              "        async function convertToInteractive(key) {\n",
              "          const element = document.querySelector('#df-01c1893d-7119-4f77-bf4a-c34b4d124bb5');\n",
              "          const dataTable =\n",
              "            await google.colab.kernel.invokeFunction('convertToInteractive',\n",
              "                                                     [key], {});\n",
              "          if (!dataTable) return;\n",
              "\n",
              "          const docLinkHtml = 'Like what you see? Visit the ' +\n",
              "            '<a target=\"_blank\" href=https://colab.research.google.com/notebooks/data_table.ipynb>data table notebook</a>'\n",
              "            + ' to learn more about interactive tables.';\n",
              "          element.innerHTML = '';\n",
              "          dataTable['output_type'] = 'display_data';\n",
              "          await google.colab.output.renderOutput(dataTable, element);\n",
              "          const docLink = document.createElement('div');\n",
              "          docLink.innerHTML = docLinkHtml;\n",
              "          element.appendChild(docLink);\n",
              "        }\n",
              "      </script>\n",
              "    </div>\n",
              "  </div>\n",
              "  "
            ]
          },
          "metadata": {},
          "execution_count": 536
        }
      ]
    },
    {
      "cell_type": "code",
      "source": [
        "from sklearn.model_selection import cross_val_score\n",
        "from sklearn.naive_bayes import GaussianNB\n",
        "from sklearn.linear_model import LogisticRegression\n",
        "from sklearn import tree\n",
        "from sklearn.neighbors import KNeighborsClassifier\n",
        "from sklearn.ensemble import RandomForestClassifier\n",
        "from sklearn.svm import SVC"
      ],
      "metadata": {
        "id": "QeJw_9mNqnDy"
      },
      "execution_count": 537,
      "outputs": []
    },
    {
      "cell_type": "code",
      "source": [
        "edmean.values\n",
        "edmean.to_frame()\n",
        "data = pd.merge(edmean, pqregion, on='region_id', how='outer')\n",
        "data = pd.merge(data, dtmean, on='region_id', how='outer')\n",
        "data.reset_index(inplace=True)\n",
        "data"
      ],
      "metadata": {
        "colab": {
          "base_uri": "https://localhost:8080/",
          "height": 363
        },
        "id": "y0CTUvh-8yES",
        "outputId": "bad85981-f863-4757-943d-15446726bcbc"
      },
      "execution_count": 538,
      "outputs": [
        {
          "output_type": "execute_result",
          "data": {
            "text/plain": [
              "   region_id      ndvi           prod       temp\n",
              "0         93  0.796895  255817.361111  27.316129\n",
              "1         94  0.773838   21809.069444  27.688734\n",
              "2         95  0.789353   25608.611111  26.204371\n",
              "3         97  0.797483   54652.666667  27.388909\n",
              "4         98  0.809874  236046.638889  26.336592\n",
              "5         99  0.806068  155615.208333  26.171634\n",
              "6        102  0.824189  425131.444444  25.573277\n",
              "7        103  0.818875  331758.166667  25.358630\n",
              "8        104  0.765984   41741.152778  27.913997\n",
              "9        105  0.795175   41961.694444  26.298263"
            ],
            "text/html": [
              "\n",
              "  <div id=\"df-35b99ddb-7402-4bf2-9081-66f0c269013d\">\n",
              "    <div class=\"colab-df-container\">\n",
              "      <div>\n",
              "<style scoped>\n",
              "    .dataframe tbody tr th:only-of-type {\n",
              "        vertical-align: middle;\n",
              "    }\n",
              "\n",
              "    .dataframe tbody tr th {\n",
              "        vertical-align: top;\n",
              "    }\n",
              "\n",
              "    .dataframe thead th {\n",
              "        text-align: right;\n",
              "    }\n",
              "</style>\n",
              "<table border=\"1\" class=\"dataframe\">\n",
              "  <thead>\n",
              "    <tr style=\"text-align: right;\">\n",
              "      <th></th>\n",
              "      <th>region_id</th>\n",
              "      <th>ndvi</th>\n",
              "      <th>prod</th>\n",
              "      <th>temp</th>\n",
              "    </tr>\n",
              "  </thead>\n",
              "  <tbody>\n",
              "    <tr>\n",
              "      <th>0</th>\n",
              "      <td>93</td>\n",
              "      <td>0.796895</td>\n",
              "      <td>255817.361111</td>\n",
              "      <td>27.316129</td>\n",
              "    </tr>\n",
              "    <tr>\n",
              "      <th>1</th>\n",
              "      <td>94</td>\n",
              "      <td>0.773838</td>\n",
              "      <td>21809.069444</td>\n",
              "      <td>27.688734</td>\n",
              "    </tr>\n",
              "    <tr>\n",
              "      <th>2</th>\n",
              "      <td>95</td>\n",
              "      <td>0.789353</td>\n",
              "      <td>25608.611111</td>\n",
              "      <td>26.204371</td>\n",
              "    </tr>\n",
              "    <tr>\n",
              "      <th>3</th>\n",
              "      <td>97</td>\n",
              "      <td>0.797483</td>\n",
              "      <td>54652.666667</td>\n",
              "      <td>27.388909</td>\n",
              "    </tr>\n",
              "    <tr>\n",
              "      <th>4</th>\n",
              "      <td>98</td>\n",
              "      <td>0.809874</td>\n",
              "      <td>236046.638889</td>\n",
              "      <td>26.336592</td>\n",
              "    </tr>\n",
              "    <tr>\n",
              "      <th>5</th>\n",
              "      <td>99</td>\n",
              "      <td>0.806068</td>\n",
              "      <td>155615.208333</td>\n",
              "      <td>26.171634</td>\n",
              "    </tr>\n",
              "    <tr>\n",
              "      <th>6</th>\n",
              "      <td>102</td>\n",
              "      <td>0.824189</td>\n",
              "      <td>425131.444444</td>\n",
              "      <td>25.573277</td>\n",
              "    </tr>\n",
              "    <tr>\n",
              "      <th>7</th>\n",
              "      <td>103</td>\n",
              "      <td>0.818875</td>\n",
              "      <td>331758.166667</td>\n",
              "      <td>25.358630</td>\n",
              "    </tr>\n",
              "    <tr>\n",
              "      <th>8</th>\n",
              "      <td>104</td>\n",
              "      <td>0.765984</td>\n",
              "      <td>41741.152778</td>\n",
              "      <td>27.913997</td>\n",
              "    </tr>\n",
              "    <tr>\n",
              "      <th>9</th>\n",
              "      <td>105</td>\n",
              "      <td>0.795175</td>\n",
              "      <td>41961.694444</td>\n",
              "      <td>26.298263</td>\n",
              "    </tr>\n",
              "  </tbody>\n",
              "</table>\n",
              "</div>\n",
              "      <button class=\"colab-df-convert\" onclick=\"convertToInteractive('df-35b99ddb-7402-4bf2-9081-66f0c269013d')\"\n",
              "              title=\"Convert this dataframe to an interactive table.\"\n",
              "              style=\"display:none;\">\n",
              "        \n",
              "  <svg xmlns=\"http://www.w3.org/2000/svg\" height=\"24px\"viewBox=\"0 0 24 24\"\n",
              "       width=\"24px\">\n",
              "    <path d=\"M0 0h24v24H0V0z\" fill=\"none\"/>\n",
              "    <path d=\"M18.56 5.44l.94 2.06.94-2.06 2.06-.94-2.06-.94-.94-2.06-.94 2.06-2.06.94zm-11 1L8.5 8.5l.94-2.06 2.06-.94-2.06-.94L8.5 2.5l-.94 2.06-2.06.94zm10 10l.94 2.06.94-2.06 2.06-.94-2.06-.94-.94-2.06-.94 2.06-2.06.94z\"/><path d=\"M17.41 7.96l-1.37-1.37c-.4-.4-.92-.59-1.43-.59-.52 0-1.04.2-1.43.59L10.3 9.45l-7.72 7.72c-.78.78-.78 2.05 0 2.83L4 21.41c.39.39.9.59 1.41.59.51 0 1.02-.2 1.41-.59l7.78-7.78 2.81-2.81c.8-.78.8-2.07 0-2.86zM5.41 20L4 18.59l7.72-7.72 1.47 1.35L5.41 20z\"/>\n",
              "  </svg>\n",
              "      </button>\n",
              "      \n",
              "  <style>\n",
              "    .colab-df-container {\n",
              "      display:flex;\n",
              "      flex-wrap:wrap;\n",
              "      gap: 12px;\n",
              "    }\n",
              "\n",
              "    .colab-df-convert {\n",
              "      background-color: #E8F0FE;\n",
              "      border: none;\n",
              "      border-radius: 50%;\n",
              "      cursor: pointer;\n",
              "      display: none;\n",
              "      fill: #1967D2;\n",
              "      height: 32px;\n",
              "      padding: 0 0 0 0;\n",
              "      width: 32px;\n",
              "    }\n",
              "\n",
              "    .colab-df-convert:hover {\n",
              "      background-color: #E2EBFA;\n",
              "      box-shadow: 0px 1px 2px rgba(60, 64, 67, 0.3), 0px 1px 3px 1px rgba(60, 64, 67, 0.15);\n",
              "      fill: #174EA6;\n",
              "    }\n",
              "\n",
              "    [theme=dark] .colab-df-convert {\n",
              "      background-color: #3B4455;\n",
              "      fill: #D2E3FC;\n",
              "    }\n",
              "\n",
              "    [theme=dark] .colab-df-convert:hover {\n",
              "      background-color: #434B5C;\n",
              "      box-shadow: 0px 1px 3px 1px rgba(0, 0, 0, 0.15);\n",
              "      filter: drop-shadow(0px 1px 2px rgba(0, 0, 0, 0.3));\n",
              "      fill: #FFFFFF;\n",
              "    }\n",
              "  </style>\n",
              "\n",
              "      <script>\n",
              "        const buttonEl =\n",
              "          document.querySelector('#df-35b99ddb-7402-4bf2-9081-66f0c269013d button.colab-df-convert');\n",
              "        buttonEl.style.display =\n",
              "          google.colab.kernel.accessAllowed ? 'block' : 'none';\n",
              "\n",
              "        async function convertToInteractive(key) {\n",
              "          const element = document.querySelector('#df-35b99ddb-7402-4bf2-9081-66f0c269013d');\n",
              "          const dataTable =\n",
              "            await google.colab.kernel.invokeFunction('convertToInteractive',\n",
              "                                                     [key], {});\n",
              "          if (!dataTable) return;\n",
              "\n",
              "          const docLinkHtml = 'Like what you see? Visit the ' +\n",
              "            '<a target=\"_blank\" href=https://colab.research.google.com/notebooks/data_table.ipynb>data table notebook</a>'\n",
              "            + ' to learn more about interactive tables.';\n",
              "          element.innerHTML = '';\n",
              "          dataTable['output_type'] = 'display_data';\n",
              "          await google.colab.output.renderOutput(dataTable, element);\n",
              "          const docLink = document.createElement('div');\n",
              "          docLink.innerHTML = docLinkHtml;\n",
              "          element.appendChild(docLink);\n",
              "        }\n",
              "      </script>\n",
              "    </div>\n",
              "  </div>\n",
              "  "
            ]
          },
          "metadata": {},
          "execution_count": 538
        }
      ]
    },
    {
      "cell_type": "code",
      "source": [
        "pq['prod'] = np.log2(pq['prod'])\n",
        "edsample['']"
      ],
      "metadata": {
        "id": "zH-TmVsYBPSX"
      },
      "execution_count": 556,
      "outputs": []
    },
    {
      "cell_type": "code",
      "source": [
        "from sklearn.metrics import mean_absolute_percentage_error\n",
        "#Target \n",
        "Y = pq['prod']\n",
        "#features\n",
        "X = edsample[['ndvi']]\n",
        "#X = all_data.sample(720)\n",
        "#X = data[['region_id',  'ndvi']]\n",
        "x_train,x_test,y_train,y_test=train_test_split(X,Y,test_size=0.3)\n",
        "#x_train= x_train.reshape(-1, 1)\n",
        "#y_train= y_train.reshape(-1, 1)\n",
        "#x_test = x_test.reshape(-1, 1)\n",
        "x_test=np.array(x_test)\n",
        "y_test=np.array(y_test)\n",
        "\n",
        "#SGD Regressor\n",
        "n_iter=1000\n",
        "clf_ = SGDRegressor(max_iter=n_iter)\n",
        "#clf = KNeighborsRegressor()\n",
        "#clf = LinearRegression()\n",
        "clf_.fit(x_train.values, y_train.values)\n",
        "\n",
        "y_pred_sksgd=clf_.predict(x_test)\n",
        "plt.scatter(y_test,y_pred_sksgd)\n",
        "plt.grid()\n",
        "plt.xlabel('Actual y')\n",
        "plt.ylabel('Predicted y')\n",
        "plt.title('Scatter plot from actual y and predicted y')\n",
        "plt.show()\n",
        "\n",
        "print('Mean Absolute percentage Error :',mean_absolute_percentage_error(y_test, y_pred_sksgd))\n",
        "print('Mean Absolute Error :',mean_absolute_error(y_test, y_pred_sksgd))\n",
        "#print(y_test)\n",
        "#print(y_pred_sksgd)"
      ],
      "metadata": {
        "colab": {
          "base_uri": "https://localhost:8080/",
          "height": 330
        },
        "id": "IUA-P8nIVebS",
        "outputId": "87d20eb4-f346-453c-9e6a-f10cd92aa3f0"
      },
      "execution_count": 567,
      "outputs": [
        {
          "output_type": "display_data",
          "data": {
            "text/plain": [
              "<Figure size 432x288 with 1 Axes>"
            ],
            "image/png": "[encoded data removed]"
          },
          "metadata": {
            "needs_background": "light"
          }
        },
        {
          "output_type": "stream",
          "name": "stdout",
          "text": [
            "Mean Absolute percentage Error : 0.08961217347004122\n",
            "Mean Absolute Error : 1.472116397814166\n"
          ]
        }
      ]
    },
    {
      "cell_type": "code",
      "source": [
        "clf = KNeighborsRegressor()\n",
        "cv = cross_val_score(clf,x_train,y_train,cv=3, scoring=\"accuracy\")\n",
        "print(cv)\n",
        "print(cv.mean())"
      ],
      "metadata": {
        "colab": {
          "base_uri": "https://localhost:8080/"
        },
        "id": "sdNWmyAEq4IE",
        "outputId": "a2c74dad-51f4-4733-aaf6-112004fc45e6"
      },
      "execution_count": 540,
      "outputs": [
        {
          "output_type": "stream",
          "name": "stdout",
          "text": [
            "[nan nan nan]\n",
            "nan\n"
          ]
        },
        {
          "output_type": "stream",
          "name": "stderr",
          "text": [
            "/usr/local/lib/python3.7/dist-packages/sklearn/model_selection/_validation.py:774: UserWarning: Scoring failed. The score on this train-test partition for these parameters will be set to nan. Details: \n",
            "Traceback (most recent call last):\n",
            "  File \"/usr/local/lib/python3.7/dist-packages/sklearn/model_selection/_validation.py\", line 761, in _score\n",
            "    scores = scorer(estimator, X_test, y_test)\n",
            "  File \"/usr/local/lib/python3.7/dist-packages/sklearn/metrics/_scorer.py\", line 103, in __call__\n",
            "    score = scorer._score(cached_call, estimator, *args, **kwargs)\n",
            "  File \"/usr/local/lib/python3.7/dist-packages/sklearn/metrics/_scorer.py\", line 264, in _score\n",
            "    return self._sign * self._score_func(y_true, y_pred, **self._kwargs)\n",
            "  File \"/usr/local/lib/python3.7/dist-packages/sklearn/metrics/_classification.py\", line 211, in accuracy_score\n",
            "    y_type, y_true, y_pred = _check_targets(y_true, y_pred)\n",
            "  File \"/usr/local/lib/python3.7/dist-packages/sklearn/metrics/_classification.py\", line 95, in _check_targets\n",
            "    type_true, type_pred\n",
            "ValueError: Classification metrics can't handle a mix of multiclass and continuous targets\n",
            "\n",
            "  UserWarning,\n",
            "/usr/local/lib/python3.7/dist-packages/sklearn/model_selection/_validation.py:774: UserWarning: Scoring failed. The score on this train-test partition for these parameters will be set to nan. Details: \n",
            "Traceback (most recent call last):\n",
            "  File \"/usr/local/lib/python3.7/dist-packages/sklearn/model_selection/_validation.py\", line 761, in _score\n",
            "    scores = scorer(estimator, X_test, y_test)\n",
            "  File \"/usr/local/lib/python3.7/dist-packages/sklearn/metrics/_scorer.py\", line 103, in __call__\n",
            "    score = scorer._score(cached_call, estimator, *args, **kwargs)\n",
            "  File \"/usr/local/lib/python3.7/dist-packages/sklearn/metrics/_scorer.py\", line 264, in _score\n",
            "    return self._sign * self._score_func(y_true, y_pred, **self._kwargs)\n",
            "  File \"/usr/local/lib/python3.7/dist-packages/sklearn/metrics/_classification.py\", line 211, in accuracy_score\n",
            "    y_type, y_true, y_pred = _check_targets(y_true, y_pred)\n",
            "  File \"/usr/local/lib/python3.7/dist-packages/sklearn/metrics/_classification.py\", line 95, in _check_targets\n",
            "    type_true, type_pred\n",
            "ValueError: Classification metrics can't handle a mix of multiclass and continuous targets\n",
            "\n",
            "  UserWarning,\n",
            "/usr/local/lib/python3.7/dist-packages/sklearn/model_selection/_validation.py:774: UserWarning: Scoring failed. The score on this train-test partition for these parameters will be set to nan. Details: \n",
            "Traceback (most recent call last):\n",
            "  File \"/usr/local/lib/python3.7/dist-packages/sklearn/model_selection/_validation.py\", line 761, in _score\n",
            "    scores = scorer(estimator, X_test, y_test)\n",
            "  File \"/usr/local/lib/python3.7/dist-packages/sklearn/metrics/_scorer.py\", line 103, in __call__\n",
            "    score = scorer._score(cached_call, estimator, *args, **kwargs)\n",
            "  File \"/usr/local/lib/python3.7/dist-packages/sklearn/metrics/_scorer.py\", line 264, in _score\n",
            "    return self._sign * self._score_func(y_true, y_pred, **self._kwargs)\n",
            "  File \"/usr/local/lib/python3.7/dist-packages/sklearn/metrics/_classification.py\", line 211, in accuracy_score\n",
            "    y_type, y_true, y_pred = _check_targets(y_true, y_pred)\n",
            "  File \"/usr/local/lib/python3.7/dist-packages/sklearn/metrics/_classification.py\", line 95, in _check_targets\n",
            "    type_true, type_pred\n",
            "ValueError: Classification metrics can't handle a mix of multiclass and continuous targets\n",
            "\n",
            "  UserWarning,\n"
          ]
        }
      ]
    },
    {
      "cell_type": "code",
      "source": [
        "pp"
      ],
      "metadata": {
        "colab": {
          "base_uri": "https://localhost:8080/",
          "height": 424
        },
        "id": "SoH7j_KifFse",
        "outputId": "d5d7397f-8341-448e-cf2f-a84a87d27148"
      },
      "execution_count": 541,
      "outputs": [
        {
          "output_type": "execute_result",
          "data": {
            "text/plain": [
              "                   start_date                  end_date  prod  region_id\n",
              "0   2021-01-01 00:00:00+00:00 2021-01-31 00:00:00+00:00   NaN         93\n",
              "1   2021-02-01 00:00:00+00:00 2021-02-28 00:00:00+00:00   NaN         93\n",
              "2   2021-03-01 00:00:00+00:00 2021-03-31 00:00:00+00:00   NaN         93\n",
              "3   2021-04-01 00:00:00+00:00 2021-04-30 00:00:00+00:00   NaN         93\n",
              "4   2021-05-01 00:00:00+00:00 2021-05-31 00:00:00+00:00   NaN         93\n",
              "..                        ...                       ...   ...        ...\n",
              "115 2021-08-01 00:00:00+00:00 2021-08-31 00:00:00+00:00   NaN        105\n",
              "116 2021-09-01 00:00:00+00:00 2021-09-30 00:00:00+00:00   NaN        105\n",
              "117 2021-10-01 00:00:00+00:00 2021-10-31 00:00:00+00:00   NaN        105\n",
              "118 2021-11-01 00:00:00+00:00 2021-11-30 00:00:00+00:00   NaN        105\n",
              "119 2021-12-01 00:00:00+00:00 2021-12-31 00:00:00+00:00   NaN        105\n",
              "\n",
              "[120 rows x 4 columns]"
            ],
            "text/html": [
              "\n",
              "  <div id=\"df-4820088d-ebbd-419e-8a22-c7e3db812013\">\n",
              "    <div class=\"colab-df-container\">\n",
              "      <div>\n",
              "<style scoped>\n",
              "    .dataframe tbody tr th:only-of-type {\n",
              "        vertical-align: middle;\n",
              "    }\n",
              "\n",
              "    .dataframe tbody tr th {\n",
              "        vertical-align: top;\n",
              "    }\n",
              "\n",
              "    .dataframe thead th {\n",
              "        text-align: right;\n",
              "    }\n",
              "</style>\n",
              "<table border=\"1\" class=\"dataframe\">\n",
              "  <thead>\n",
              "    <tr style=\"text-align: right;\">\n",
              "      <th></th>\n",
              "      <th>start_date</th>\n",
              "      <th>end_date</th>\n",
              "      <th>prod</th>\n",
              "      <th>region_id</th>\n",
              "    </tr>\n",
              "  </thead>\n",
              "  <tbody>\n",
              "    <tr>\n",
              "      <th>0</th>\n",
              "      <td>2021-01-01 00:00:00+00:00</td>\n",
              "      <td>2021-01-31 00:00:00+00:00</td>\n",
              "      <td>NaN</td>\n",
              "      <td>93</td>\n",
              "    </tr>\n",
              "    <tr>\n",
              "      <th>1</th>\n",
              "      <td>2021-02-01 00:00:00+00:00</td>\n",
              "      <td>2021-02-28 00:00:00+00:00</td>\n",
              "      <td>NaN</td>\n",
              "      <td>93</td>\n",
              "    </tr>\n",
              "    <tr>\n",
              "      <th>2</th>\n",
              "      <td>2021-03-01 00:00:00+00:00</td>\n",
              "      <td>2021-03-31 00:00:00+00:00</td>\n",
              "      <td>NaN</td>\n",
              "      <td>93</td>\n",
              "    </tr>\n",
              "    <tr>\n",
              "      <th>3</th>\n",
              "      <td>2021-04-01 00:00:00+00:00</td>\n",
              "      <td>2021-04-30 00:00:00+00:00</td>\n",
              "      <td>NaN</td>\n",
              "      <td>93</td>\n",
              "    </tr>\n",
              "    <tr>\n",
              "      <th>4</th>\n",
              "      <td>2021-05-01 00:00:00+00:00</td>\n",
              "      <td>2021-05-31 00:00:00+00:00</td>\n",
              "      <td>NaN</td>\n",
              "      <td>93</td>\n",
              "    </tr>\n",
              "    <tr>\n",
              "      <th>...</th>\n",
              "      <td>...</td>\n",
              "      <td>...</td>\n",
              "      <td>...</td>\n",
              "      <td>...</td>\n",
              "    </tr>\n",
              "    <tr>\n",
              "      <th>115</th>\n",
              "      <td>2021-08-01 00:00:00+00:00</td>\n",
              "      <td>2021-08-31 00:00:00+00:00</td>\n",
              "      <td>NaN</td>\n",
              "      <td>105</td>\n",
              "    </tr>\n",
              "    <tr>\n",
              "      <th>116</th>\n",
              "      <td>2021-09-01 00:00:00+00:00</td>\n",
              "      <td>2021-09-30 00:00:00+00:00</td>\n",
              "      <td>NaN</td>\n",
              "      <td>105</td>\n",
              "    </tr>\n",
              "    <tr>\n",
              "      <th>117</th>\n",
              "      <td>2021-10-01 00:00:00+00:00</td>\n",
              "      <td>2021-10-31 00:00:00+00:00</td>\n",
              "      <td>NaN</td>\n",
              "      <td>105</td>\n",
              "    </tr>\n",
              "    <tr>\n",
              "      <th>118</th>\n",
              "      <td>2021-11-01 00:00:00+00:00</td>\n",
              "      <td>2021-11-30 00:00:00+00:00</td>\n",
              "      <td>NaN</td>\n",
              "      <td>105</td>\n",
              "    </tr>\n",
              "    <tr>\n",
              "      <th>119</th>\n",
              "      <td>2021-12-01 00:00:00+00:00</td>\n",
              "      <td>2021-12-31 00:00:00+00:00</td>\n",
              "      <td>NaN</td>\n",
              "      <td>105</td>\n",
              "    </tr>\n",
              "  </tbody>\n",
              "</table>\n",
              "<p>120 rows × 4 columns</p>\n",
              "</div>\n",
              "      <button class=\"colab-df-convert\" onclick=\"convertToInteractive('df-4820088d-ebbd-419e-8a22-c7e3db812013')\"\n",
              "              title=\"Convert this dataframe to an interactive table.\"\n",
              "              style=\"display:none;\">\n",
              "        \n",
              "  <svg xmlns=\"http://www.w3.org/2000/svg\" height=\"24px\"viewBox=\"0 0 24 24\"\n",
              "       width=\"24px\">\n",
              "    <path d=\"M0 0h24v24H0V0z\" fill=\"none\"/>\n",
              "    <path d=\"M18.56 5.44l.94 2.06.94-2.06 2.06-.94-2.06-.94-.94-2.06-.94 2.06-2.06.94zm-11 1L8.5 8.5l.94-2.06 2.06-.94-2.06-.94L8.5 2.5l-.94 2.06-2.06.94zm10 10l.94 2.06.94-2.06 2.06-.94-2.06-.94-.94-2.06-.94 2.06-2.06.94z\"/><path d=\"M17.41 7.96l-1.37-1.37c-.4-.4-.92-.59-1.43-.59-.52 0-1.04.2-1.43.59L10.3 9.45l-7.72 7.72c-.78.78-.78 2.05 0 2.83L4 21.41c.39.39.9.59 1.41.59.51 0 1.02-.2 1.41-.59l7.78-7.78 2.81-2.81c.8-.78.8-2.07 0-2.86zM5.41 20L4 18.59l7.72-7.72 1.47 1.35L5.41 20z\"/>\n",
              "  </svg>\n",
              "      </button>\n",
              "      \n",
              "  <style>\n",
              "    .colab-df-container {\n",
              "      display:flex;\n",
              "      flex-wrap:wrap;\n",
              "      gap: 12px;\n",
              "    }\n",
              "\n",
              "    .colab-df-convert {\n",
              "      background-color: #E8F0FE;\n",
              "      border: none;\n",
              "      border-radius: 50%;\n",
              "      cursor: pointer;\n",
              "      display: none;\n",
              "      fill: #1967D2;\n",
              "      height: 32px;\n",
              "      padding: 0 0 0 0;\n",
              "      width: 32px;\n",
              "    }\n",
              "\n",
              "    .colab-df-convert:hover {\n",
              "      background-color: #E2EBFA;\n",
              "      box-shadow: 0px 1px 2px rgba(60, 64, 67, 0.3), 0px 1px 3px 1px rgba(60, 64, 67, 0.15);\n",
              "      fill: #174EA6;\n",
              "    }\n",
              "\n",
              "    [theme=dark] .colab-df-convert {\n",
              "      background-color: #3B4455;\n",
              "      fill: #D2E3FC;\n",
              "    }\n",
              "\n",
              "    [theme=dark] .colab-df-convert:hover {\n",
              "      background-color: #434B5C;\n",
              "      box-shadow: 0px 1px 3px 1px rgba(0, 0, 0, 0.15);\n",
              "      filter: drop-shadow(0px 1px 2px rgba(0, 0, 0, 0.3));\n",
              "      fill: #FFFFFF;\n",
              "    }\n",
              "  </style>\n",
              "\n",
              "      <script>\n",
              "        const buttonEl =\n",
              "          document.querySelector('#df-4820088d-ebbd-419e-8a22-c7e3db812013 button.colab-df-convert');\n",
              "        buttonEl.style.display =\n",
              "          google.colab.kernel.accessAllowed ? 'block' : 'none';\n",
              "\n",
              "        async function convertToInteractive(key) {\n",
              "          const element = document.querySelector('#df-4820088d-ebbd-419e-8a22-c7e3db812013');\n",
              "          const dataTable =\n",
              "            await google.colab.kernel.invokeFunction('convertToInteractive',\n",
              "                                                     [key], {});\n",
              "          if (!dataTable) return;\n",
              "\n",
              "          const docLinkHtml = 'Like what you see? Visit the ' +\n",
              "            '<a target=\"_blank\" href=https://colab.research.google.com/notebooks/data_table.ipynb>data table notebook</a>'\n",
              "            + ' to learn more about interactive tables.';\n",
              "          element.innerHTML = '';\n",
              "          dataTable['output_type'] = 'display_data';\n",
              "          await google.colab.output.renderOutput(dataTable, element);\n",
              "          const docLink = document.createElement('div');\n",
              "          docLink.innerHTML = docLinkHtml;\n",
              "          element.appendChild(docLink);\n",
              "        }\n",
              "      </script>\n",
              "    </div>\n",
              "  </div>\n",
              "  "
            ]
          },
          "metadata": {},
          "execution_count": 541
        }
      ]
    },
    {
      "cell_type": "code",
      "source": [
        "pq"
      ],
      "metadata": {
        "colab": {
          "base_uri": "https://localhost:8080/",
          "height": 424
        },
        "id": "0gmXbliXF0iG",
        "outputId": "38d15caf-c1dd-45d6-b352-f1aaab0632bf"
      },
      "execution_count": 542,
      "outputs": [
        {
          "output_type": "execute_result",
          "data": {
            "text/plain": [
              "                   start_date                  end_date    prod  region_id  \\\n",
              "0   2015-01-01 00:00:00+00:00 2015-01-31 00:00:00+00:00  171725         93   \n",
              "1   2015-02-01 00:00:00+00:00 2015-02-28 00:00:00+00:00  188325         93   \n",
              "2   2015-03-01 00:00:00+00:00 2015-03-31 00:00:00+00:00  247856         93   \n",
              "3   2015-04-01 00:00:00+00:00 2015-04-30 00:00:00+00:00  282791         93   \n",
              "4   2015-05-01 00:00:00+00:00 2015-05-31 00:00:00+00:00  291057         93   \n",
              "..                        ...                       ...     ...        ...   \n",
              "715 2020-08-01 00:00:00+00:00 2020-08-31 00:00:00+00:00   57818        105   \n",
              "716 2020-09-01 00:00:00+00:00 2020-09-30 00:00:00+00:00   57474        105   \n",
              "717 2020-10-01 00:00:00+00:00 2020-10-31 00:00:00+00:00   51821        105   \n",
              "718 2020-11-01 00:00:00+00:00 2020-11-30 00:00:00+00:00   44947        105   \n",
              "719 2020-12-01 00:00:00+00:00 2020-12-31 00:00:00+00:00   35728        105   \n",
              "\n",
              "    time_period  month  \n",
              "0       30 days      1  \n",
              "1       27 days      2  \n",
              "2       30 days      3  \n",
              "3       29 days      4  \n",
              "4       30 days      5  \n",
              "..          ...    ...  \n",
              "715     30 days      8  \n",
              "716     29 days      9  \n",
              "717     30 days     10  \n",
              "718     29 days     11  \n",
              "719     30 days     12  \n",
              "\n",
              "[720 rows x 6 columns]"
            ],
            "text/html": [
              "\n",
              "  <div id=\"df-bcc440c9-60db-49eb-b524-bfc79ae9d3c1\">\n",
              "    <div class=\"colab-df-container\">\n",
              "      <div>\n",
              "<style scoped>\n",
              "    .dataframe tbody tr th:only-of-type {\n",
              "        vertical-align: middle;\n",
              "    }\n",
              "\n",
              "    .dataframe tbody tr th {\n",
              "        vertical-align: top;\n",
              "    }\n",
              "\n",
              "    .dataframe thead th {\n",
              "        text-align: right;\n",
              "    }\n",
              "</style>\n",
              "<table border=\"1\" class=\"dataframe\">\n",
              "  <thead>\n",
              "    <tr style=\"text-align: right;\">\n",
              "      <th></th>\n",
              "      <th>start_date</th>\n",
              "      <th>end_date</th>\n",
              "      <th>prod</th>\n",
              "      <th>region_id</th>\n",
              "      <th>time_period</th>\n",
              "      <th>month</th>\n",
              "    </tr>\n",
              "  </thead>\n",
              "  <tbody>\n",
              "    <tr>\n",
              "      <th>0</th>\n",
              "      <td>2015-01-01 00:00:00+00:00</td>\n",
              "      <td>2015-01-31 00:00:00+00:00</td>\n",
              "      <td>171725</td>\n",
              "      <td>93</td>\n",
              "      <td>30 days</td>\n",
              "      <td>1</td>\n",
              "    </tr>\n",
              "    <tr>\n",
              "      <th>1</th>\n",
              "      <td>2015-02-01 00:00:00+00:00</td>\n",
              "      <td>2015-02-28 00:00:00+00:00</td>\n",
              "      <td>188325</td>\n",
              "      <td>93</td>\n",
              "      <td>27 days</td>\n",
              "      <td>2</td>\n",
              "    </tr>\n",
              "    <tr>\n",
              "      <th>2</th>\n",
              "      <td>2015-03-01 00:00:00+00:00</td>\n",
              "      <td>2015-03-31 00:00:00+00:00</td>\n",
              "      <td>247856</td>\n",
              "      <td>93</td>\n",
              "      <td>30 days</td>\n",
              "      <td>3</td>\n",
              "    </tr>\n",
              "    <tr>\n",
              "      <th>3</th>\n",
              "      <td>2015-04-01 00:00:00+00:00</td>\n",
              "      <td>2015-04-30 00:00:00+00:00</td>\n",
              "      <td>282791</td>\n",
              "      <td>93</td>\n",
              "      <td>29 days</td>\n",
              "      <td>4</td>\n",
              "    </tr>\n",
              "    <tr>\n",
              "      <th>4</th>\n",
              "      <td>2015-05-01 00:00:00+00:00</td>\n",
              "      <td>2015-05-31 00:00:00+00:00</td>\n",
              "      <td>291057</td>\n",
              "      <td>93</td>\n",
              "      <td>30 days</td>\n",
              "      <td>5</td>\n",
              "    </tr>\n",
              "    <tr>\n",
              "      <th>...</th>\n",
              "      <td>...</td>\n",
              "      <td>...</td>\n",
              "      <td>...</td>\n",
              "      <td>...</td>\n",
              "      <td>...</td>\n",
              "      <td>...</td>\n",
              "    </tr>\n",
              "    <tr>\n",
              "      <th>715</th>\n",
              "      <td>2020-08-01 00:00:00+00:00</td>\n",
              "      <td>2020-08-31 00:00:00+00:00</td>\n",
              "      <td>57818</td>\n",
              "      <td>105</td>\n",
              "      <td>30 days</td>\n",
              "      <td>8</td>\n",
              "    </tr>\n",
              "    <tr>\n",
              "      <th>716</th>\n",
              "      <td>2020-09-01 00:00:00+00:00</td>\n",
              "      <td>2020-09-30 00:00:00+00:00</td>\n",
              "      <td>57474</td>\n",
              "      <td>105</td>\n",
              "      <td>29 days</td>\n",
              "      <td>9</td>\n",
              "    </tr>\n",
              "    <tr>\n",
              "      <th>717</th>\n",
              "      <td>2020-10-01 00:00:00+00:00</td>\n",
              "      <td>2020-10-31 00:00:00+00:00</td>\n",
              "      <td>51821</td>\n",
              "      <td>105</td>\n",
              "      <td>30 days</td>\n",
              "      <td>10</td>\n",
              "    </tr>\n",
              "    <tr>\n",
              "      <th>718</th>\n",
              "      <td>2020-11-01 00:00:00+00:00</td>\n",
              "      <td>2020-11-30 00:00:00+00:00</td>\n",
              "      <td>44947</td>\n",
              "      <td>105</td>\n",
              "      <td>29 days</td>\n",
              "      <td>11</td>\n",
              "    </tr>\n",
              "    <tr>\n",
              "      <th>719</th>\n",
              "      <td>2020-12-01 00:00:00+00:00</td>\n",
              "      <td>2020-12-31 00:00:00+00:00</td>\n",
              "      <td>35728</td>\n",
              "      <td>105</td>\n",
              "      <td>30 days</td>\n",
              "      <td>12</td>\n",
              "    </tr>\n",
              "  </tbody>\n",
              "</table>\n",
              "<p>720 rows × 6 columns</p>\n",
              "</div>\n",
              "      <button class=\"colab-df-convert\" onclick=\"convertToInteractive('df-bcc440c9-60db-49eb-b524-bfc79ae9d3c1')\"\n",
              "              title=\"Convert this dataframe to an interactive table.\"\n",
              "              style=\"display:none;\">\n",
              "        \n",
              "  <svg xmlns=\"http://www.w3.org/2000/svg\" height=\"24px\"viewBox=\"0 0 24 24\"\n",
              "       width=\"24px\">\n",
              "    <path d=\"M0 0h24v24H0V0z\" fill=\"none\"/>\n",
              "    <path d=\"M18.56 5.44l.94 2.06.94-2.06 2.06-.94-2.06-.94-.94-2.06-.94 2.06-2.06.94zm-11 1L8.5 8.5l.94-2.06 2.06-.94-2.06-.94L8.5 2.5l-.94 2.06-2.06.94zm10 10l.94 2.06.94-2.06 2.06-.94-2.06-.94-.94-2.06-.94 2.06-2.06.94z\"/><path d=\"M17.41 7.96l-1.37-1.37c-.4-.4-.92-.59-1.43-.59-.52 0-1.04.2-1.43.59L10.3 9.45l-7.72 7.72c-.78.78-.78 2.05 0 2.83L4 21.41c.39.39.9.59 1.41.59.51 0 1.02-.2 1.41-.59l7.78-7.78 2.81-2.81c.8-.78.8-2.07 0-2.86zM5.41 20L4 18.59l7.72-7.72 1.47 1.35L5.41 20z\"/>\n",
              "  </svg>\n",
              "      </button>\n",
              "      \n",
              "  <style>\n",
              "    .colab-df-container {\n",
              "      display:flex;\n",
              "      flex-wrap:wrap;\n",
              "      gap: 12px;\n",
              "    }\n",
              "\n",
              "    .colab-df-convert {\n",
              "      background-color: #E8F0FE;\n",
              "      border: none;\n",
              "      border-radius: 50%;\n",
              "      cursor: pointer;\n",
              "      display: none;\n",
              "      fill: #1967D2;\n",
              "      height: 32px;\n",
              "      padding: 0 0 0 0;\n",
              "      width: 32px;\n",
              "    }\n",
              "\n",
              "    .colab-df-convert:hover {\n",
              "      background-color: #E2EBFA;\n",
              "      box-shadow: 0px 1px 2px rgba(60, 64, 67, 0.3), 0px 1px 3px 1px rgba(60, 64, 67, 0.15);\n",
              "      fill: #174EA6;\n",
              "    }\n",
              "\n",
              "    [theme=dark] .colab-df-convert {\n",
              "      background-color: #3B4455;\n",
              "      fill: #D2E3FC;\n",
              "    }\n",
              "\n",
              "    [theme=dark] .colab-df-convert:hover {\n",
              "      background-color: #434B5C;\n",
              "      box-shadow: 0px 1px 3px 1px rgba(0, 0, 0, 0.15);\n",
              "      filter: drop-shadow(0px 1px 2px rgba(0, 0, 0, 0.3));\n",
              "      fill: #FFFFFF;\n",
              "    }\n",
              "  </style>\n",
              "\n",
              "      <script>\n",
              "        const buttonEl =\n",
              "          document.querySelector('#df-bcc440c9-60db-49eb-b524-bfc79ae9d3c1 button.colab-df-convert');\n",
              "        buttonEl.style.display =\n",
              "          google.colab.kernel.accessAllowed ? 'block' : 'none';\n",
              "\n",
              "        async function convertToInteractive(key) {\n",
              "          const element = document.querySelector('#df-bcc440c9-60db-49eb-b524-bfc79ae9d3c1');\n",
              "          const dataTable =\n",
              "            await google.colab.kernel.invokeFunction('convertToInteractive',\n",
              "                                                     [key], {});\n",
              "          if (!dataTable) return;\n",
              "\n",
              "          const docLinkHtml = 'Like what you see? Visit the ' +\n",
              "            '<a target=\"_blank\" href=https://colab.research.google.com/notebooks/data_table.ipynb>data table notebook</a>'\n",
              "            + ' to learn more about interactive tables.';\n",
              "          element.innerHTML = '';\n",
              "          dataTable['output_type'] = 'display_data';\n",
              "          await google.colab.output.renderOutput(dataTable, element);\n",
              "          const docLink = document.createElement('div');\n",
              "          docLink.innerHTML = docLinkHtml;\n",
              "          element.appendChild(docLink);\n",
              "        }\n",
              "      </script>\n",
              "    </div>\n",
              "  </div>\n",
              "  "
            ]
          },
          "metadata": {},
          "execution_count": 542
        }
      ]
    }
  ]
}